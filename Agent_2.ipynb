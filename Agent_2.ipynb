{
  "nbformat": 4,
  "nbformat_minor": 0,
  "metadata": {
    "colab": {
      "provenance": [],
      "authorship_tag": "ABX9TyOUpi5mukSs7i9dKYzhJxP1",
      "include_colab_link": true
    },
    "kernelspec": {
      "name": "python3",
      "display_name": "Python 3"
    },
    "language_info": {
      "name": "python"
    },
    "widgets": {
      "application/vnd.jupyter.widget-state+json": {
        "685d334851c94c19b76d7d99d69c49a7": {
          "model_module": "@jupyter-widgets/controls",
          "model_name": "VBoxModel",
          "model_module_version": "1.5.0",
          "state": {
            "_dom_classes": [],
            "_model_module": "@jupyter-widgets/controls",
            "_model_module_version": "1.5.0",
            "_model_name": "VBoxModel",
            "_view_count": null,
            "_view_module": "@jupyter-widgets/controls",
            "_view_module_version": "1.5.0",
            "_view_name": "VBoxView",
            "box_style": "",
            "children": [],
            "layout": "IPY_MODEL_abc46cbe5db54edc94bcc23cc694303d"
          }
        },
        "01bf1a4eb21940b3b318968fd58fee81": {
          "model_module": "@jupyter-widgets/controls",
          "model_name": "HTMLModel",
          "model_module_version": "1.5.0",
          "state": {
            "_dom_classes": [],
            "_model_module": "@jupyter-widgets/controls",
            "_model_module_version": "1.5.0",
            "_model_name": "HTMLModel",
            "_view_count": null,
            "_view_module": "@jupyter-widgets/controls",
            "_view_module_version": "1.5.0",
            "_view_name": "HTMLView",
            "description": "",
            "description_tooltip": null,
            "layout": "IPY_MODEL_0ad8dd830bc84a58865f3ee143e9b29d",
            "placeholder": "​",
            "style": "IPY_MODEL_702169d0ee8f47ab8695e9c64237b157",
            "value": "<center> <img\nsrc=https://huggingface.co/front/assets/huggingface_logo-noborder.svg\nalt='Hugging Face'> <br> Copy a token from <a\nhref=\"https://huggingface.co/settings/tokens\" target=\"_blank\">your Hugging Face\ntokens page</a> and paste it below. <br> Immediately click login after copying\nyour token or it might be stored in plain text in this notebook file. </center>"
          }
        },
        "06411f5d731f4544984f5a11ac33d5b3": {
          "model_module": "@jupyter-widgets/controls",
          "model_name": "PasswordModel",
          "model_module_version": "1.5.0",
          "state": {
            "_dom_classes": [],
            "_model_module": "@jupyter-widgets/controls",
            "_model_module_version": "1.5.0",
            "_model_name": "PasswordModel",
            "_view_count": null,
            "_view_module": "@jupyter-widgets/controls",
            "_view_module_version": "1.5.0",
            "_view_name": "PasswordView",
            "continuous_update": true,
            "description": "Token:",
            "description_tooltip": null,
            "disabled": false,
            "layout": "IPY_MODEL_fbf8f229cf1445cc81d95b05259fbdd9",
            "placeholder": "​",
            "style": "IPY_MODEL_a1b18e49cb8b4f3fbb8bb24a46ffdbf8",
            "value": ""
          }
        },
        "d96fcadb6bc44a86a23607b1851c811a": {
          "model_module": "@jupyter-widgets/controls",
          "model_name": "CheckboxModel",
          "model_module_version": "1.5.0",
          "state": {
            "_dom_classes": [],
            "_model_module": "@jupyter-widgets/controls",
            "_model_module_version": "1.5.0",
            "_model_name": "CheckboxModel",
            "_view_count": null,
            "_view_module": "@jupyter-widgets/controls",
            "_view_module_version": "1.5.0",
            "_view_name": "CheckboxView",
            "description": "Add token as git credential?",
            "description_tooltip": null,
            "disabled": false,
            "indent": true,
            "layout": "IPY_MODEL_eb455fbfaf4b4f4aac292c6752cb4af2",
            "style": "IPY_MODEL_982a4910e72243cea964175a0f1240d0",
            "value": true
          }
        },
        "d5a11f137b984de6b4f26648a01bda58": {
          "model_module": "@jupyter-widgets/controls",
          "model_name": "ButtonModel",
          "model_module_version": "1.5.0",
          "state": {
            "_dom_classes": [],
            "_model_module": "@jupyter-widgets/controls",
            "_model_module_version": "1.5.0",
            "_model_name": "ButtonModel",
            "_view_count": null,
            "_view_module": "@jupyter-widgets/controls",
            "_view_module_version": "1.5.0",
            "_view_name": "ButtonView",
            "button_style": "",
            "description": "Login",
            "disabled": false,
            "icon": "",
            "layout": "IPY_MODEL_d976250069264c0f9a37a996ddf77e59",
            "style": "IPY_MODEL_0c739c865ee040419d666ff95577ea17",
            "tooltip": ""
          }
        },
        "b40c1a78c170475a90a83b6491e5c913": {
          "model_module": "@jupyter-widgets/controls",
          "model_name": "HTMLModel",
          "model_module_version": "1.5.0",
          "state": {
            "_dom_classes": [],
            "_model_module": "@jupyter-widgets/controls",
            "_model_module_version": "1.5.0",
            "_model_name": "HTMLModel",
            "_view_count": null,
            "_view_module": "@jupyter-widgets/controls",
            "_view_module_version": "1.5.0",
            "_view_name": "HTMLView",
            "description": "",
            "description_tooltip": null,
            "layout": "IPY_MODEL_a8b9ba4dca8146189ddb7bf4751fa049",
            "placeholder": "​",
            "style": "IPY_MODEL_85163511e14b4a1f9d47b7adba6d5fb4",
            "value": "\n<b>Pro Tip:</b> If you don't already have one, you can create a dedicated\n'notebooks' token with 'write' access, that you can then easily reuse for all\nnotebooks. </center>"
          }
        },
        "abc46cbe5db54edc94bcc23cc694303d": {
          "model_module": "@jupyter-widgets/base",
          "model_name": "LayoutModel",
          "model_module_version": "1.2.0",
          "state": {
            "_model_module": "@jupyter-widgets/base",
            "_model_module_version": "1.2.0",
            "_model_name": "LayoutModel",
            "_view_count": null,
            "_view_module": "@jupyter-widgets/base",
            "_view_module_version": "1.2.0",
            "_view_name": "LayoutView",
            "align_content": null,
            "align_items": "center",
            "align_self": null,
            "border": null,
            "bottom": null,
            "display": "flex",
            "flex": null,
            "flex_flow": "column",
            "grid_area": null,
            "grid_auto_columns": null,
            "grid_auto_flow": null,
            "grid_auto_rows": null,
            "grid_column": null,
            "grid_gap": null,
            "grid_row": null,
            "grid_template_areas": null,
            "grid_template_columns": null,
            "grid_template_rows": null,
            "height": null,
            "justify_content": null,
            "justify_items": null,
            "left": null,
            "margin": null,
            "max_height": null,
            "max_width": null,
            "min_height": null,
            "min_width": null,
            "object_fit": null,
            "object_position": null,
            "order": null,
            "overflow": null,
            "overflow_x": null,
            "overflow_y": null,
            "padding": null,
            "right": null,
            "top": null,
            "visibility": null,
            "width": "50%"
          }
        },
        "0ad8dd830bc84a58865f3ee143e9b29d": {
          "model_module": "@jupyter-widgets/base",
          "model_name": "LayoutModel",
          "model_module_version": "1.2.0",
          "state": {
            "_model_module": "@jupyter-widgets/base",
            "_model_module_version": "1.2.0",
            "_model_name": "LayoutModel",
            "_view_count": null,
            "_view_module": "@jupyter-widgets/base",
            "_view_module_version": "1.2.0",
            "_view_name": "LayoutView",
            "align_content": null,
            "align_items": null,
            "align_self": null,
            "border": null,
            "bottom": null,
            "display": null,
            "flex": null,
            "flex_flow": null,
            "grid_area": null,
            "grid_auto_columns": null,
            "grid_auto_flow": null,
            "grid_auto_rows": null,
            "grid_column": null,
            "grid_gap": null,
            "grid_row": null,
            "grid_template_areas": null,
            "grid_template_columns": null,
            "grid_template_rows": null,
            "height": null,
            "justify_content": null,
            "justify_items": null,
            "left": null,
            "margin": null,
            "max_height": null,
            "max_width": null,
            "min_height": null,
            "min_width": null,
            "object_fit": null,
            "object_position": null,
            "order": null,
            "overflow": null,
            "overflow_x": null,
            "overflow_y": null,
            "padding": null,
            "right": null,
            "top": null,
            "visibility": null,
            "width": null
          }
        },
        "702169d0ee8f47ab8695e9c64237b157": {
          "model_module": "@jupyter-widgets/controls",
          "model_name": "DescriptionStyleModel",
          "model_module_version": "1.5.0",
          "state": {
            "_model_module": "@jupyter-widgets/controls",
            "_model_module_version": "1.5.0",
            "_model_name": "DescriptionStyleModel",
            "_view_count": null,
            "_view_module": "@jupyter-widgets/base",
            "_view_module_version": "1.2.0",
            "_view_name": "StyleView",
            "description_width": ""
          }
        },
        "fbf8f229cf1445cc81d95b05259fbdd9": {
          "model_module": "@jupyter-widgets/base",
          "model_name": "LayoutModel",
          "model_module_version": "1.2.0",
          "state": {
            "_model_module": "@jupyter-widgets/base",
            "_model_module_version": "1.2.0",
            "_model_name": "LayoutModel",
            "_view_count": null,
            "_view_module": "@jupyter-widgets/base",
            "_view_module_version": "1.2.0",
            "_view_name": "LayoutView",
            "align_content": null,
            "align_items": null,
            "align_self": null,
            "border": null,
            "bottom": null,
            "display": null,
            "flex": null,
            "flex_flow": null,
            "grid_area": null,
            "grid_auto_columns": null,
            "grid_auto_flow": null,
            "grid_auto_rows": null,
            "grid_column": null,
            "grid_gap": null,
            "grid_row": null,
            "grid_template_areas": null,
            "grid_template_columns": null,
            "grid_template_rows": null,
            "height": null,
            "justify_content": null,
            "justify_items": null,
            "left": null,
            "margin": null,
            "max_height": null,
            "max_width": null,
            "min_height": null,
            "min_width": null,
            "object_fit": null,
            "object_position": null,
            "order": null,
            "overflow": null,
            "overflow_x": null,
            "overflow_y": null,
            "padding": null,
            "right": null,
            "top": null,
            "visibility": null,
            "width": null
          }
        },
        "a1b18e49cb8b4f3fbb8bb24a46ffdbf8": {
          "model_module": "@jupyter-widgets/controls",
          "model_name": "DescriptionStyleModel",
          "model_module_version": "1.5.0",
          "state": {
            "_model_module": "@jupyter-widgets/controls",
            "_model_module_version": "1.5.0",
            "_model_name": "DescriptionStyleModel",
            "_view_count": null,
            "_view_module": "@jupyter-widgets/base",
            "_view_module_version": "1.2.0",
            "_view_name": "StyleView",
            "description_width": ""
          }
        },
        "eb455fbfaf4b4f4aac292c6752cb4af2": {
          "model_module": "@jupyter-widgets/base",
          "model_name": "LayoutModel",
          "model_module_version": "1.2.0",
          "state": {
            "_model_module": "@jupyter-widgets/base",
            "_model_module_version": "1.2.0",
            "_model_name": "LayoutModel",
            "_view_count": null,
            "_view_module": "@jupyter-widgets/base",
            "_view_module_version": "1.2.0",
            "_view_name": "LayoutView",
            "align_content": null,
            "align_items": null,
            "align_self": null,
            "border": null,
            "bottom": null,
            "display": null,
            "flex": null,
            "flex_flow": null,
            "grid_area": null,
            "grid_auto_columns": null,
            "grid_auto_flow": null,
            "grid_auto_rows": null,
            "grid_column": null,
            "grid_gap": null,
            "grid_row": null,
            "grid_template_areas": null,
            "grid_template_columns": null,
            "grid_template_rows": null,
            "height": null,
            "justify_content": null,
            "justify_items": null,
            "left": null,
            "margin": null,
            "max_height": null,
            "max_width": null,
            "min_height": null,
            "min_width": null,
            "object_fit": null,
            "object_position": null,
            "order": null,
            "overflow": null,
            "overflow_x": null,
            "overflow_y": null,
            "padding": null,
            "right": null,
            "top": null,
            "visibility": null,
            "width": null
          }
        },
        "982a4910e72243cea964175a0f1240d0": {
          "model_module": "@jupyter-widgets/controls",
          "model_name": "DescriptionStyleModel",
          "model_module_version": "1.5.0",
          "state": {
            "_model_module": "@jupyter-widgets/controls",
            "_model_module_version": "1.5.0",
            "_model_name": "DescriptionStyleModel",
            "_view_count": null,
            "_view_module": "@jupyter-widgets/base",
            "_view_module_version": "1.2.0",
            "_view_name": "StyleView",
            "description_width": ""
          }
        },
        "d976250069264c0f9a37a996ddf77e59": {
          "model_module": "@jupyter-widgets/base",
          "model_name": "LayoutModel",
          "model_module_version": "1.2.0",
          "state": {
            "_model_module": "@jupyter-widgets/base",
            "_model_module_version": "1.2.0",
            "_model_name": "LayoutModel",
            "_view_count": null,
            "_view_module": "@jupyter-widgets/base",
            "_view_module_version": "1.2.0",
            "_view_name": "LayoutView",
            "align_content": null,
            "align_items": null,
            "align_self": null,
            "border": null,
            "bottom": null,
            "display": null,
            "flex": null,
            "flex_flow": null,
            "grid_area": null,
            "grid_auto_columns": null,
            "grid_auto_flow": null,
            "grid_auto_rows": null,
            "grid_column": null,
            "grid_gap": null,
            "grid_row": null,
            "grid_template_areas": null,
            "grid_template_columns": null,
            "grid_template_rows": null,
            "height": null,
            "justify_content": null,
            "justify_items": null,
            "left": null,
            "margin": null,
            "max_height": null,
            "max_width": null,
            "min_height": null,
            "min_width": null,
            "object_fit": null,
            "object_position": null,
            "order": null,
            "overflow": null,
            "overflow_x": null,
            "overflow_y": null,
            "padding": null,
            "right": null,
            "top": null,
            "visibility": null,
            "width": null
          }
        },
        "0c739c865ee040419d666ff95577ea17": {
          "model_module": "@jupyter-widgets/controls",
          "model_name": "ButtonStyleModel",
          "model_module_version": "1.5.0",
          "state": {
            "_model_module": "@jupyter-widgets/controls",
            "_model_module_version": "1.5.0",
            "_model_name": "ButtonStyleModel",
            "_view_count": null,
            "_view_module": "@jupyter-widgets/base",
            "_view_module_version": "1.2.0",
            "_view_name": "StyleView",
            "button_color": null,
            "font_weight": ""
          }
        },
        "a8b9ba4dca8146189ddb7bf4751fa049": {
          "model_module": "@jupyter-widgets/base",
          "model_name": "LayoutModel",
          "model_module_version": "1.2.0",
          "state": {
            "_model_module": "@jupyter-widgets/base",
            "_model_module_version": "1.2.0",
            "_model_name": "LayoutModel",
            "_view_count": null,
            "_view_module": "@jupyter-widgets/base",
            "_view_module_version": "1.2.0",
            "_view_name": "LayoutView",
            "align_content": null,
            "align_items": null,
            "align_self": null,
            "border": null,
            "bottom": null,
            "display": null,
            "flex": null,
            "flex_flow": null,
            "grid_area": null,
            "grid_auto_columns": null,
            "grid_auto_flow": null,
            "grid_auto_rows": null,
            "grid_column": null,
            "grid_gap": null,
            "grid_row": null,
            "grid_template_areas": null,
            "grid_template_columns": null,
            "grid_template_rows": null,
            "height": null,
            "justify_content": null,
            "justify_items": null,
            "left": null,
            "margin": null,
            "max_height": null,
            "max_width": null,
            "min_height": null,
            "min_width": null,
            "object_fit": null,
            "object_position": null,
            "order": null,
            "overflow": null,
            "overflow_x": null,
            "overflow_y": null,
            "padding": null,
            "right": null,
            "top": null,
            "visibility": null,
            "width": null
          }
        },
        "85163511e14b4a1f9d47b7adba6d5fb4": {
          "model_module": "@jupyter-widgets/controls",
          "model_name": "DescriptionStyleModel",
          "model_module_version": "1.5.0",
          "state": {
            "_model_module": "@jupyter-widgets/controls",
            "_model_module_version": "1.5.0",
            "_model_name": "DescriptionStyleModel",
            "_view_count": null,
            "_view_module": "@jupyter-widgets/base",
            "_view_module_version": "1.2.0",
            "_view_name": "StyleView",
            "description_width": ""
          }
        },
        "3672c38716ca417297447b8f851bbc39": {
          "model_module": "@jupyter-widgets/controls",
          "model_name": "LabelModel",
          "model_module_version": "1.5.0",
          "state": {
            "_dom_classes": [],
            "_model_module": "@jupyter-widgets/controls",
            "_model_module_version": "1.5.0",
            "_model_name": "LabelModel",
            "_view_count": null,
            "_view_module": "@jupyter-widgets/controls",
            "_view_module_version": "1.5.0",
            "_view_name": "LabelView",
            "description": "",
            "description_tooltip": null,
            "layout": "IPY_MODEL_7eef57dd7b0d47a1b59d941ea2c31287",
            "placeholder": "​",
            "style": "IPY_MODEL_16d7842b380243b18f28e92e817103af",
            "value": "Connecting..."
          }
        },
        "7eef57dd7b0d47a1b59d941ea2c31287": {
          "model_module": "@jupyter-widgets/base",
          "model_name": "LayoutModel",
          "model_module_version": "1.2.0",
          "state": {
            "_model_module": "@jupyter-widgets/base",
            "_model_module_version": "1.2.0",
            "_model_name": "LayoutModel",
            "_view_count": null,
            "_view_module": "@jupyter-widgets/base",
            "_view_module_version": "1.2.0",
            "_view_name": "LayoutView",
            "align_content": null,
            "align_items": null,
            "align_self": null,
            "border": null,
            "bottom": null,
            "display": null,
            "flex": null,
            "flex_flow": null,
            "grid_area": null,
            "grid_auto_columns": null,
            "grid_auto_flow": null,
            "grid_auto_rows": null,
            "grid_column": null,
            "grid_gap": null,
            "grid_row": null,
            "grid_template_areas": null,
            "grid_template_columns": null,
            "grid_template_rows": null,
            "height": null,
            "justify_content": null,
            "justify_items": null,
            "left": null,
            "margin": null,
            "max_height": null,
            "max_width": null,
            "min_height": null,
            "min_width": null,
            "object_fit": null,
            "object_position": null,
            "order": null,
            "overflow": null,
            "overflow_x": null,
            "overflow_y": null,
            "padding": null,
            "right": null,
            "top": null,
            "visibility": null,
            "width": null
          }
        },
        "16d7842b380243b18f28e92e817103af": {
          "model_module": "@jupyter-widgets/controls",
          "model_name": "DescriptionStyleModel",
          "model_module_version": "1.5.0",
          "state": {
            "_model_module": "@jupyter-widgets/controls",
            "_model_module_version": "1.5.0",
            "_model_name": "DescriptionStyleModel",
            "_view_count": null,
            "_view_module": "@jupyter-widgets/base",
            "_view_module_version": "1.2.0",
            "_view_name": "StyleView",
            "description_width": ""
          }
        }
      }
    }
  },
  "cells": [
    {
      "cell_type": "markdown",
      "metadata": {
        "id": "view-in-github",
        "colab_type": "text"
      },
      "source": [
        "<a href=\"https://colab.research.google.com/github/ManelSoengas/tutorials/blob/main/Agent_2.ipynb\" target=\"_parent\"><img src=\"https://colab.research.google.com/assets/colab-badge.svg\" alt=\"Open In Colab\"/></a>"
      ]
    },
    {
      "cell_type": "code",
      "execution_count": 1,
      "metadata": {
        "colab": {
          "base_uri": "https://localhost:8080/",
          "height": 1000,
          "referenced_widgets": [
            "685d334851c94c19b76d7d99d69c49a7",
            "01bf1a4eb21940b3b318968fd58fee81",
            "06411f5d731f4544984f5a11ac33d5b3",
            "d96fcadb6bc44a86a23607b1851c811a",
            "d5a11f137b984de6b4f26648a01bda58",
            "b40c1a78c170475a90a83b6491e5c913",
            "abc46cbe5db54edc94bcc23cc694303d",
            "0ad8dd830bc84a58865f3ee143e9b29d",
            "702169d0ee8f47ab8695e9c64237b157",
            "fbf8f229cf1445cc81d95b05259fbdd9",
            "a1b18e49cb8b4f3fbb8bb24a46ffdbf8",
            "eb455fbfaf4b4f4aac292c6752cb4af2",
            "982a4910e72243cea964175a0f1240d0",
            "d976250069264c0f9a37a996ddf77e59",
            "0c739c865ee040419d666ff95577ea17",
            "a8b9ba4dca8146189ddb7bf4751fa049",
            "85163511e14b4a1f9d47b7adba6d5fb4",
            "3672c38716ca417297447b8f851bbc39",
            "7eef57dd7b0d47a1b59d941ea2c31287",
            "16d7842b380243b18f28e92e817103af"
          ]
        },
        "id": "3osUQu0pQkYc",
        "outputId": "ef2ce722-0b3d-4b17-e6e5-428aa7892a44"
      },
      "outputs": [
        {
          "output_type": "stream",
          "name": "stdout",
          "text": [
            "Collecting smolagents\n",
            "  Downloading smolagents-1.8.0-py3-none-any.whl.metadata (14 kB)\n",
            "Requirement already satisfied: huggingface-hub>=0.28.0 in /usr/local/lib/python3.11/dist-packages (from smolagents) (0.28.1)\n",
            "Requirement already satisfied: requests>=2.32.3 in /usr/local/lib/python3.11/dist-packages (from smolagents) (2.32.3)\n",
            "Requirement already satisfied: rich>=13.9.4 in /usr/local/lib/python3.11/dist-packages (from smolagents) (13.9.4)\n",
            "Collecting pandas>=2.2.3 (from smolagents)\n",
            "  Downloading pandas-2.2.3-cp311-cp311-manylinux_2_17_x86_64.manylinux2014_x86_64.whl.metadata (89 kB)\n",
            "\u001b[2K     \u001b[90m━━━━━━━━━━━━━━━━━━━━━━━━━━━━━━━━━━━━━━━━\u001b[0m \u001b[32m89.9/89.9 kB\u001b[0m \u001b[31m1.5 MB/s\u001b[0m eta \u001b[36m0:00:00\u001b[0m\n",
            "\u001b[?25hRequirement already satisfied: jinja2>=3.1.4 in /usr/local/lib/python3.11/dist-packages (from smolagents) (3.1.5)\n",
            "Requirement already satisfied: pillow>=11.0.0 in /usr/local/lib/python3.11/dist-packages (from smolagents) (11.1.0)\n",
            "Collecting markdownify>=0.14.1 (from smolagents)\n",
            "  Downloading markdownify-0.14.1-py3-none-any.whl.metadata (8.5 kB)\n",
            "Collecting duckduckgo-search>=6.3.7 (from smolagents)\n",
            "  Downloading duckduckgo_search-7.3.2-py3-none-any.whl.metadata (17 kB)\n",
            "Collecting python-dotenv (from smolagents)\n",
            "  Downloading python_dotenv-1.0.1-py3-none-any.whl.metadata (23 kB)\n",
            "Requirement already satisfied: click>=8.1.8 in /usr/local/lib/python3.11/dist-packages (from duckduckgo-search>=6.3.7->smolagents) (8.1.8)\n",
            "Collecting primp>=0.11.0 (from duckduckgo-search>=6.3.7->smolagents)\n",
            "  Downloading primp-0.12.0-cp38-abi3-manylinux_2_17_x86_64.manylinux2014_x86_64.whl.metadata (13 kB)\n",
            "Requirement already satisfied: lxml>=5.3.0 in /usr/local/lib/python3.11/dist-packages (from duckduckgo-search>=6.3.7->smolagents) (5.3.0)\n",
            "Requirement already satisfied: filelock in /usr/local/lib/python3.11/dist-packages (from huggingface-hub>=0.28.0->smolagents) (3.17.0)\n",
            "Requirement already satisfied: fsspec>=2023.5.0 in /usr/local/lib/python3.11/dist-packages (from huggingface-hub>=0.28.0->smolagents) (2024.10.0)\n",
            "Requirement already satisfied: packaging>=20.9 in /usr/local/lib/python3.11/dist-packages (from huggingface-hub>=0.28.0->smolagents) (24.2)\n",
            "Requirement already satisfied: pyyaml>=5.1 in /usr/local/lib/python3.11/dist-packages (from huggingface-hub>=0.28.0->smolagents) (6.0.2)\n",
            "Requirement already satisfied: tqdm>=4.42.1 in /usr/local/lib/python3.11/dist-packages (from huggingface-hub>=0.28.0->smolagents) (4.67.1)\n",
            "Requirement already satisfied: typing-extensions>=3.7.4.3 in /usr/local/lib/python3.11/dist-packages (from huggingface-hub>=0.28.0->smolagents) (4.12.2)\n",
            "Requirement already satisfied: MarkupSafe>=2.0 in /usr/local/lib/python3.11/dist-packages (from jinja2>=3.1.4->smolagents) (3.0.2)\n",
            "Requirement already satisfied: beautifulsoup4<5,>=4.9 in /usr/local/lib/python3.11/dist-packages (from markdownify>=0.14.1->smolagents) (4.13.3)\n",
            "Requirement already satisfied: six<2,>=1.15 in /usr/local/lib/python3.11/dist-packages (from markdownify>=0.14.1->smolagents) (1.17.0)\n",
            "Requirement already satisfied: numpy>=1.23.2 in /usr/local/lib/python3.11/dist-packages (from pandas>=2.2.3->smolagents) (1.26.4)\n",
            "Requirement already satisfied: python-dateutil>=2.8.2 in /usr/local/lib/python3.11/dist-packages (from pandas>=2.2.3->smolagents) (2.8.2)\n",
            "Requirement already satisfied: pytz>=2020.1 in /usr/local/lib/python3.11/dist-packages (from pandas>=2.2.3->smolagents) (2025.1)\n",
            "Requirement already satisfied: tzdata>=2022.7 in /usr/local/lib/python3.11/dist-packages (from pandas>=2.2.3->smolagents) (2025.1)\n",
            "Requirement already satisfied: charset-normalizer<4,>=2 in /usr/local/lib/python3.11/dist-packages (from requests>=2.32.3->smolagents) (3.4.1)\n",
            "Requirement already satisfied: idna<4,>=2.5 in /usr/local/lib/python3.11/dist-packages (from requests>=2.32.3->smolagents) (3.10)\n",
            "Requirement already satisfied: urllib3<3,>=1.21.1 in /usr/local/lib/python3.11/dist-packages (from requests>=2.32.3->smolagents) (2.3.0)\n",
            "Requirement already satisfied: certifi>=2017.4.17 in /usr/local/lib/python3.11/dist-packages (from requests>=2.32.3->smolagents) (2025.1.31)\n",
            "Requirement already satisfied: markdown-it-py>=2.2.0 in /usr/local/lib/python3.11/dist-packages (from rich>=13.9.4->smolagents) (3.0.0)\n",
            "Requirement already satisfied: pygments<3.0.0,>=2.13.0 in /usr/local/lib/python3.11/dist-packages (from rich>=13.9.4->smolagents) (2.18.0)\n",
            "Requirement already satisfied: soupsieve>1.2 in /usr/local/lib/python3.11/dist-packages (from beautifulsoup4<5,>=4.9->markdownify>=0.14.1->smolagents) (2.6)\n",
            "Requirement already satisfied: mdurl~=0.1 in /usr/local/lib/python3.11/dist-packages (from markdown-it-py>=2.2.0->rich>=13.9.4->smolagents) (0.1.2)\n",
            "Downloading smolagents-1.8.0-py3-none-any.whl (94 kB)\n",
            "\u001b[2K   \u001b[90m━━━━━━━━━━━━━━━━━━━━━━━━━━━━━━━━━━━━━━━━\u001b[0m \u001b[32m94.8/94.8 kB\u001b[0m \u001b[31m2.6 MB/s\u001b[0m eta \u001b[36m0:00:00\u001b[0m\n",
            "\u001b[?25hDownloading duckduckgo_search-7.3.2-py3-none-any.whl (19 kB)\n",
            "Downloading markdownify-0.14.1-py3-none-any.whl (11 kB)\n",
            "Downloading pandas-2.2.3-cp311-cp311-manylinux_2_17_x86_64.manylinux2014_x86_64.whl (13.1 MB)\n",
            "\u001b[2K   \u001b[90m━━━━━━━━━━━━━━━━━━━━━━━━━━━━━━━━━━━━━━━━\u001b[0m \u001b[32m13.1/13.1 MB\u001b[0m \u001b[31m16.1 MB/s\u001b[0m eta \u001b[36m0:00:00\u001b[0m\n",
            "\u001b[?25hDownloading python_dotenv-1.0.1-py3-none-any.whl (19 kB)\n",
            "Downloading primp-0.12.0-cp38-abi3-manylinux_2_17_x86_64.manylinux2014_x86_64.whl (3.3 MB)\n",
            "\u001b[2K   \u001b[90m━━━━━━━━━━━━━━━━━━━━━━━━━━━━━━━━━━━━━━━━\u001b[0m \u001b[32m3.3/3.3 MB\u001b[0m \u001b[31m23.4 MB/s\u001b[0m eta \u001b[36m0:00:00\u001b[0m\n",
            "\u001b[?25hInstalling collected packages: python-dotenv, primp, pandas, markdownify, duckduckgo-search, smolagents\n",
            "  Attempting uninstall: pandas\n",
            "    Found existing installation: pandas 2.2.2\n",
            "    Uninstalling pandas-2.2.2:\n",
            "      Successfully uninstalled pandas-2.2.2\n",
            "\u001b[31mERROR: pip's dependency resolver does not currently take into account all the packages that are installed. This behaviour is the source of the following dependency conflicts.\n",
            "google-colab 1.0.0 requires pandas==2.2.2, but you have pandas 2.2.3 which is incompatible.\u001b[0m\u001b[31m\n",
            "\u001b[0mSuccessfully installed duckduckgo-search-7.3.2 markdownify-0.14.1 pandas-2.2.3 primp-0.12.0 python-dotenv-1.0.1 smolagents-1.8.0\n"
          ]
        },
        {
          "output_type": "display_data",
          "data": {
            "text/plain": [
              "VBox(children=(HTML(value='<center> <img\\nsrc=https://huggingface.co/front/assets/huggingface_logo-noborder.sv…"
            ],
            "application/vnd.jupyter.widget-view+json": {
              "version_major": 2,
              "version_minor": 0,
              "model_id": "685d334851c94c19b76d7d99d69c49a7"
            }
          },
          "metadata": {}
        }
      ],
      "source": [
        "!pip install smolagents\n",
        "\n",
        "# Install the requirements in Google Colab\n",
        "# !pip install transformers datasets trl huggingface_hub\n",
        "\n",
        "# Authenticate to Hugging Face\n",
        "from huggingface_hub import login\n",
        "\n",
        "login()"
      ]
    },
    {
      "cell_type": "code",
      "source": [
        "from smolagents import CodeAgent, DuckDuckGoSearchTool, HfApiModel\n",
        "\n",
        "# Initialize the agent\n",
        "agent = CodeAgent(tools=[DuckDuckGoSearchTool()], model=HfApiModel())\n",
        "\n",
        "# Test the agent\n",
        "response = agent.run(\"¿Qué es el razonamiento?\")\n",
        "print(response)"
      ],
      "metadata": {
        "colab": {
          "base_uri": "https://localhost:8080/",
          "height": 1000
        },
        "collapsed": true,
        "id": "aibLIRT4QnyD",
        "outputId": "cffd29c6-65ff-413a-f607-63f16709d814"
      },
      "execution_count": 3,
      "outputs": [
        {
          "output_type": "display_data",
          "data": {
            "text/plain": [
              "\u001b[38;2;212;183;2m╭─\u001b[0m\u001b[38;2;212;183;2m───────────────────────────────────────────────────\u001b[0m\u001b[38;2;212;183;2m \u001b[0m\u001b[1;38;2;212;183;2mNew run\u001b[0m\u001b[38;2;212;183;2m \u001b[0m\u001b[38;2;212;183;2m───────────────────────────────────────────────────\u001b[0m\u001b[38;2;212;183;2m─╮\u001b[0m\n",
              "\u001b[38;2;212;183;2m│\u001b[0m                                                                                                                 \u001b[38;2;212;183;2m│\u001b[0m\n",
              "\u001b[38;2;212;183;2m│\u001b[0m \u001b[1m¿Qué es el razonamiento?\u001b[0m                                                                                        \u001b[38;2;212;183;2m│\u001b[0m\n",
              "\u001b[38;2;212;183;2m│\u001b[0m                                                                                                                 \u001b[38;2;212;183;2m│\u001b[0m\n",
              "\u001b[38;2;212;183;2m╰─\u001b[0m\u001b[38;2;212;183;2m HfApiModel - Qwen/Qwen2.5-Coder-32B-Instruct \u001b[0m\u001b[38;2;212;183;2m─────────────────────────────────────────────────────────────────\u001b[0m\u001b[38;2;212;183;2m─╯\u001b[0m\n"
            ],
            "text/html": [
              "<pre style=\"white-space:pre;overflow-x:auto;line-height:normal;font-family:Menlo,'DejaVu Sans Mono',consolas,'Courier New',monospace\"><span style=\"color: #d4b702; text-decoration-color: #d4b702\">╭──────────────────────────────────────────────────── </span><span style=\"color: #d4b702; text-decoration-color: #d4b702; font-weight: bold\">New run</span><span style=\"color: #d4b702; text-decoration-color: #d4b702\"> ────────────────────────────────────────────────────╮</span>\n",
              "<span style=\"color: #d4b702; text-decoration-color: #d4b702\">│</span>                                                                                                                 <span style=\"color: #d4b702; text-decoration-color: #d4b702\">│</span>\n",
              "<span style=\"color: #d4b702; text-decoration-color: #d4b702\">│</span> <span style=\"font-weight: bold\">¿Qué es el razonamiento?</span>                                                                                        <span style=\"color: #d4b702; text-decoration-color: #d4b702\">│</span>\n",
              "<span style=\"color: #d4b702; text-decoration-color: #d4b702\">│</span>                                                                                                                 <span style=\"color: #d4b702; text-decoration-color: #d4b702\">│</span>\n",
              "<span style=\"color: #d4b702; text-decoration-color: #d4b702\">╰─ HfApiModel - Qwen/Qwen2.5-Coder-32B-Instruct ──────────────────────────────────────────────────────────────────╯</span>\n",
              "</pre>\n"
            ]
          },
          "metadata": {}
        },
        {
          "output_type": "display_data",
          "data": {
            "text/plain": [
              "\u001b[38;2;212;183;2m━━━━━━━━━━━━━━━━━━━━━━━━━━━━━━━━━━━━━━━━━━━━━━━━━━━━━ \u001b[0m\u001b[1mStep \u001b[0m\u001b[1;36m1\u001b[0m\u001b[38;2;212;183;2m ━━━━━━━━━━━━━━━━━━━━━━━━━━━━━━━━━━━━━━━━━━━━━━━━━━━━━━\u001b[0m\n"
            ],
            "text/html": [
              "<pre style=\"white-space:pre;overflow-x:auto;line-height:normal;font-family:Menlo,'DejaVu Sans Mono',consolas,'Courier New',monospace\"><span style=\"color: #d4b702; text-decoration-color: #d4b702\">━━━━━━━━━━━━━━━━━━━━━━━━━━━━━━━━━━━━━━━━━━━━━━━━━━━━━ </span><span style=\"font-weight: bold\">Step </span><span style=\"color: #008080; text-decoration-color: #008080; font-weight: bold\">1</span><span style=\"color: #d4b702; text-decoration-color: #d4b702\"> ━━━━━━━━━━━━━━━━━━━━━━━━━━━━━━━━━━━━━━━━━━━━━━━━━━━━━━</span>\n",
              "</pre>\n"
            ]
          },
          "metadata": {}
        },
        {
          "output_type": "display_data",
          "data": {
            "text/plain": [
              " ─ \u001b[1mExecuting parsed code:\u001b[0m ──────────────────────────────────────────────────────────────────────────────────────── \n",
              "  \u001b[38;2;248;248;242;48;2;39;40;34mrazonamiento_definition\u001b[0m\u001b[38;2;248;248;242;48;2;39;40;34m \u001b[0m\u001b[38;2;255;70;137;48;2;39;40;34m=\u001b[0m\u001b[38;2;248;248;242;48;2;39;40;34m \u001b[0m\u001b[38;2;248;248;242;48;2;39;40;34mweb_search\u001b[0m\u001b[38;2;248;248;242;48;2;39;40;34m(\u001b[0m\u001b[38;2;248;248;242;48;2;39;40;34mquery\u001b[0m\u001b[38;2;255;70;137;48;2;39;40;34m=\u001b[0m\u001b[38;2;230;219;116;48;2;39;40;34m\"\u001b[0m\u001b[38;2;230;219;116;48;2;39;40;34mqué es el razonamiento\u001b[0m\u001b[38;2;230;219;116;48;2;39;40;34m\"\u001b[0m\u001b[38;2;248;248;242;48;2;39;40;34m)\u001b[0m\u001b[48;2;39;40;34m                                           \u001b[0m  \n",
              "  \u001b[38;2;248;248;242;48;2;39;40;34mprint\u001b[0m\u001b[38;2;248;248;242;48;2;39;40;34m(\u001b[0m\u001b[38;2;248;248;242;48;2;39;40;34mrazonamiento_definition\u001b[0m\u001b[38;2;248;248;242;48;2;39;40;34m)\u001b[0m\u001b[48;2;39;40;34m                                                                                 \u001b[0m  \n",
              " ───────────────────────────────────────────────────────────────────────────────────────────────────────────────── \n"
            ],
            "text/html": [
              "<pre style=\"white-space:pre;overflow-x:auto;line-height:normal;font-family:Menlo,'DejaVu Sans Mono',consolas,'Courier New',monospace\"> ─ <span style=\"font-weight: bold\">Executing parsed code:</span> ──────────────────────────────────────────────────────────────────────────────────────── \n",
              "  <span style=\"color: #f8f8f2; text-decoration-color: #f8f8f2; background-color: #272822\">razonamiento_definition </span><span style=\"color: #ff4689; text-decoration-color: #ff4689; background-color: #272822\">=</span><span style=\"color: #f8f8f2; text-decoration-color: #f8f8f2; background-color: #272822\"> web_search(query</span><span style=\"color: #ff4689; text-decoration-color: #ff4689; background-color: #272822\">=</span><span style=\"color: #e6db74; text-decoration-color: #e6db74; background-color: #272822\">\"qué es el razonamiento\"</span><span style=\"color: #f8f8f2; text-decoration-color: #f8f8f2; background-color: #272822\">)</span><span style=\"background-color: #272822\">                                           </span>  \n",
              "  <span style=\"color: #f8f8f2; text-decoration-color: #f8f8f2; background-color: #272822\">print(razonamiento_definition)</span><span style=\"background-color: #272822\">                                                                                 </span>  \n",
              " ───────────────────────────────────────────────────────────────────────────────────────────────────────────────── \n",
              "</pre>\n"
            ]
          },
          "metadata": {}
        },
        {
          "output_type": "display_data",
          "data": {
            "text/plain": [
              "\u001b[1mExecution logs:\u001b[0m\n",
              "## Search Results\n",
              "\n",
              "[Razonamiento - Concepto, tipos y características](https://concepto.de/razonamiento/)\n",
              "Un razonamiento deductivo es aquel en el que la conclusión se infiere necesariamente de las premisas. Por ejemplo: \n",
              "si todos los perros muerden, y Boby es un perro, la conclusión será que Boby muerde. Razonamiento inductivo. Un \n",
              "razonamiento inductivo es aquel en el que la verdad de las premisas apoya pero no garantiza su conclusión.\n",
              "\n",
              "[Razonamiento (Qué es, Importancia y Tipos) - Significados](https://www.significados.com/razonamiento/)\n",
              "El razonamiento es el proceso intelectual mediante el cual el ser humano utiliza la lógica y el pensamiento para \n",
              "analizar, interpretar, deducir e inferir información con base en premisas conocidas. Este proceso permite \n",
              "establecer conexiones mentales que justifican ideas, decisiones y conclusiones.. En filosofía, el razonamiento está\n",
              "estrechamente relacionado con la lógica, la disciplina ...\n",
              "\n",
              "[¿Qué es el razonamiento? - Psicologia & Reflexiones](https://psicologiayreflexiones.com/que-es-el-razonamiento/)\n",
              "El razonamiento en sí es difícil de estudiar como un todo, dividiéndose a menudo en diferentes procesos que dan \n",
              "lugar a distintos tipos de razonamiento: 1. Razonamiento deductivo. ... Es frecuentemente el tipo de razonamiento \n",
              "que siguen los estereotipos. Nos llegan a hacer pensar que por ser parte de un colectivo o profesión al que se ha \n",
              "...\n",
              "\n",
              "[El Razonamiento: Qué Es, Características y Tipos - Gradior](https://www.gradior.es/que-es-el-razonamiento/)\n",
              "El razonamiento es la capacidad de solucionar problemas y establecer relaciones usando la lógica y la experiencia. \n",
              "Conoce sus características, elementos y tipos, y cómo trabajar o rehabilitar esta capacidad con GRADIOR Suite.\n",
              "\n",
              "[Razonamiento: concepto, tipos y características esenciales - \n",
              "Enciclopendia](https://enciclopendia.com/razonamiento-concepto-tipos-y-caracteristicas-esenciales/)\n",
              "El razonamiento es la capacidad de procesar información, analizarla de manera lógica y llegar a conclusiones \n",
              "basadas en la evidencia. Conoce los diferentes tipos de razonamiento (lógico, inductivo y deductivo) y sus \n",
              "ejemplos, características y consejos para mejorarlos.\n",
              "\n",
              "[Razonamiento - Qué es, definición y concepto](https://definicion.de/razonamiento/)\n",
              "Razonamiento es el proceso y el resultado de razonar, que consiste en organizar y estructurar las ideas para \n",
              "arribar a una conclusión. Existen distintos tipos de razonamiento, como el lógico, el inductivo, el deductivo, el \n",
              "abductivo y el argumentativo, que se explican con ejemplos y se relacionan con la lógica.\n",
              "\n",
              "[Razonamiento - Concepto, elementos, tipos y características - \n",
              "edu.lat](https://definicion.edu.lat/concepto/razonamiento.html)\n",
              "El razonamiento es la capacidad humana de resolver problemas o situaciones aplicando la lógica y la experiencia. Se\n",
              "clasifica en razonamiento deductivo, inductivo, lógico y matemático, según el procedimiento y los tipos de premisas\n",
              "y conclusiones.\n",
              "\n",
              "[¿Qué es el Razonamiento? Ejemplos, características e importancia - \n",
              "CEUPE](https://www.ceupe.com/blog/razonamiento.html)\n",
              "El análisis lógico implica tener que emplear un razonamiento sistemático, permitiendo a la persona llegar a una \n",
              "conclusión sólida. Conexión de ideas: La conexión de ideas es fundamental para el razonamiento y se refiere a la \n",
              "capacidad de la mente para identificar patrones, así como reconocer conexiones y relaciones de causa y efecto ...\n",
              "\n",
              "[Definición de razonamiento. Características y clasificación](https://definicion.com/razonamiento/)\n",
              "El razonamiento es la capacidad de procesar y organizar la información para lograr una conclusión concreta. Se basa\n",
              "en premisas y conclusiones, y se clasifica en deductivo, inductivo y abductivo según el procedimiento lógico.\n",
              "\n",
              "[Qué es Razonamiento - Definición, Significado y Concepto](https://ladefinicion.com/razonamiento/)\n",
              "El razonamiento es la capacidad de ordenar y reflexionar sobre ideas y pensamientos para llegar a una conclusión o \n",
              "resolver un problema. Conoce los tipos de razonamiento, su importancia y la ciencia que lo estudia: la lógica.\n",
              "\n",
              "Out: None\n"
            ],
            "text/html": [
              "<pre style=\"white-space:pre;overflow-x:auto;line-height:normal;font-family:Menlo,'DejaVu Sans Mono',consolas,'Courier New',monospace\"><span style=\"font-weight: bold\">Execution logs:</span>\n",
              "## Search Results\n",
              "\n",
              "[Razonamiento - Concepto, tipos y características](https://concepto.de/razonamiento/)\n",
              "Un razonamiento deductivo es aquel en el que la conclusión se infiere necesariamente de las premisas. Por ejemplo: \n",
              "si todos los perros muerden, y Boby es un perro, la conclusión será que Boby muerde. Razonamiento inductivo. Un \n",
              "razonamiento inductivo es aquel en el que la verdad de las premisas apoya pero no garantiza su conclusión.\n",
              "\n",
              "[Razonamiento (Qué es, Importancia y Tipos) - Significados](https://www.significados.com/razonamiento/)\n",
              "El razonamiento es el proceso intelectual mediante el cual el ser humano utiliza la lógica y el pensamiento para \n",
              "analizar, interpretar, deducir e inferir información con base en premisas conocidas. Este proceso permite \n",
              "establecer conexiones mentales que justifican ideas, decisiones y conclusiones.. En filosofía, el razonamiento está\n",
              "estrechamente relacionado con la lógica, la disciplina ...\n",
              "\n",
              "[¿Qué es el razonamiento? - Psicologia &amp; Reflexiones](https://psicologiayreflexiones.com/que-es-el-razonamiento/)\n",
              "El razonamiento en sí es difícil de estudiar como un todo, dividiéndose a menudo en diferentes procesos que dan \n",
              "lugar a distintos tipos de razonamiento: 1. Razonamiento deductivo. ... Es frecuentemente el tipo de razonamiento \n",
              "que siguen los estereotipos. Nos llegan a hacer pensar que por ser parte de un colectivo o profesión al que se ha \n",
              "...\n",
              "\n",
              "[El Razonamiento: Qué Es, Características y Tipos - Gradior](https://www.gradior.es/que-es-el-razonamiento/)\n",
              "El razonamiento es la capacidad de solucionar problemas y establecer relaciones usando la lógica y la experiencia. \n",
              "Conoce sus características, elementos y tipos, y cómo trabajar o rehabilitar esta capacidad con GRADIOR Suite.\n",
              "\n",
              "[Razonamiento: concepto, tipos y características esenciales - \n",
              "Enciclopendia](https://enciclopendia.com/razonamiento-concepto-tipos-y-caracteristicas-esenciales/)\n",
              "El razonamiento es la capacidad de procesar información, analizarla de manera lógica y llegar a conclusiones \n",
              "basadas en la evidencia. Conoce los diferentes tipos de razonamiento (lógico, inductivo y deductivo) y sus \n",
              "ejemplos, características y consejos para mejorarlos.\n",
              "\n",
              "[Razonamiento - Qué es, definición y concepto](https://definicion.de/razonamiento/)\n",
              "Razonamiento es el proceso y el resultado de razonar, que consiste en organizar y estructurar las ideas para \n",
              "arribar a una conclusión. Existen distintos tipos de razonamiento, como el lógico, el inductivo, el deductivo, el \n",
              "abductivo y el argumentativo, que se explican con ejemplos y se relacionan con la lógica.\n",
              "\n",
              "[Razonamiento - Concepto, elementos, tipos y características - \n",
              "edu.lat](https://definicion.edu.lat/concepto/razonamiento.html)\n",
              "El razonamiento es la capacidad humana de resolver problemas o situaciones aplicando la lógica y la experiencia. Se\n",
              "clasifica en razonamiento deductivo, inductivo, lógico y matemático, según el procedimiento y los tipos de premisas\n",
              "y conclusiones.\n",
              "\n",
              "[¿Qué es el Razonamiento? Ejemplos, características e importancia - \n",
              "CEUPE](https://www.ceupe.com/blog/razonamiento.html)\n",
              "El análisis lógico implica tener que emplear un razonamiento sistemático, permitiendo a la persona llegar a una \n",
              "conclusión sólida. Conexión de ideas: La conexión de ideas es fundamental para el razonamiento y se refiere a la \n",
              "capacidad de la mente para identificar patrones, así como reconocer conexiones y relaciones de causa y efecto ...\n",
              "\n",
              "[Definición de razonamiento. Características y clasificación](https://definicion.com/razonamiento/)\n",
              "El razonamiento es la capacidad de procesar y organizar la información para lograr una conclusión concreta. Se basa\n",
              "en premisas y conclusiones, y se clasifica en deductivo, inductivo y abductivo según el procedimiento lógico.\n",
              "\n",
              "[Qué es Razonamiento - Definición, Significado y Concepto](https://ladefinicion.com/razonamiento/)\n",
              "El razonamiento es la capacidad de ordenar y reflexionar sobre ideas y pensamientos para llegar a una conclusión o \n",
              "resolver un problema. Conoce los tipos de razonamiento, su importancia y la ciencia que lo estudia: la lógica.\n",
              "\n",
              "Out: None\n",
              "</pre>\n"
            ]
          },
          "metadata": {}
        },
        {
          "output_type": "display_data",
          "data": {
            "text/plain": [
              "\u001b[2m[Step 0: Duration 2.80 seconds| Input tokens: 2,078 | Output tokens: 76]\u001b[0m\n"
            ],
            "text/html": [
              "<pre style=\"white-space:pre;overflow-x:auto;line-height:normal;font-family:Menlo,'DejaVu Sans Mono',consolas,'Courier New',monospace\"><span style=\"color: #7f7f7f; text-decoration-color: #7f7f7f\">[Step 0: Duration 2.80 seconds| Input tokens: 2,078 | Output tokens: 76]</span>\n",
              "</pre>\n"
            ]
          },
          "metadata": {}
        },
        {
          "output_type": "display_data",
          "data": {
            "text/plain": [
              "\u001b[38;2;212;183;2m━━━━━━━━━━━━━━━━━━━━━━━━━━━━━━━━━━━━━━━━━━━━━━━━━━━━━ \u001b[0m\u001b[1mStep \u001b[0m\u001b[1;36m2\u001b[0m\u001b[38;2;212;183;2m ━━━━━━━━━━━━━━━━━━━━━━━━━━━━━━━━━━━━━━━━━━━━━━━━━━━━━━\u001b[0m\n"
            ],
            "text/html": [
              "<pre style=\"white-space:pre;overflow-x:auto;line-height:normal;font-family:Menlo,'DejaVu Sans Mono',consolas,'Courier New',monospace\"><span style=\"color: #d4b702; text-decoration-color: #d4b702\">━━━━━━━━━━━━━━━━━━━━━━━━━━━━━━━━━━━━━━━━━━━━━━━━━━━━━ </span><span style=\"font-weight: bold\">Step </span><span style=\"color: #008080; text-decoration-color: #008080; font-weight: bold\">2</span><span style=\"color: #d4b702; text-decoration-color: #d4b702\"> ━━━━━━━━━━━━━━━━━━━━━━━━━━━━━━━━━━━━━━━━━━━━━━━━━━━━━━</span>\n",
              "</pre>\n"
            ]
          },
          "metadata": {}
        },
        {
          "output_type": "display_data",
          "data": {
            "text/plain": [
              " ─ \u001b[1mExecuting parsed code:\u001b[0m ──────────────────────────────────────────────────────────────────────────────────────── \n",
              "  \u001b[38;2;248;248;242;48;2;39;40;34mfinal_answer\u001b[0m\u001b[38;2;248;248;242;48;2;39;40;34m(\u001b[0m\u001b[38;2;230;219;116;48;2;39;40;34m\"\u001b[0m\u001b[38;2;230;219;116;48;2;39;40;34mEl razonamiento es el proceso mediante el cual el ser humano utiliza la lógica y el pensamiento \u001b[0m\u001b[48;2;39;40;34m \u001b[0m  \n",
              "  \u001b[38;2;230;219;116;48;2;39;40;34mpara analizar, interpretar, deducir e inferir información con base en premisas conocidas. Permite establecer \u001b[0m\u001b[48;2;39;40;34m  \u001b[0m  \n",
              "  \u001b[38;2;230;219;116;48;2;39;40;34mconexiones mentales que justifican ideas, decisiones y conclusiones.\u001b[0m\u001b[38;2;230;219;116;48;2;39;40;34m\"\u001b[0m\u001b[38;2;248;248;242;48;2;39;40;34m)\u001b[0m\u001b[48;2;39;40;34m                                         \u001b[0m  \n",
              " ───────────────────────────────────────────────────────────────────────────────────────────────────────────────── \n"
            ],
            "text/html": [
              "<pre style=\"white-space:pre;overflow-x:auto;line-height:normal;font-family:Menlo,'DejaVu Sans Mono',consolas,'Courier New',monospace\"> ─ <span style=\"font-weight: bold\">Executing parsed code:</span> ──────────────────────────────────────────────────────────────────────────────────────── \n",
              "  <span style=\"color: #f8f8f2; text-decoration-color: #f8f8f2; background-color: #272822\">final_answer(</span><span style=\"color: #e6db74; text-decoration-color: #e6db74; background-color: #272822\">\"El razonamiento es el proceso mediante el cual el ser humano utiliza la lógica y el pensamiento </span><span style=\"background-color: #272822\"> </span>  \n",
              "  <span style=\"color: #e6db74; text-decoration-color: #e6db74; background-color: #272822\">para analizar, interpretar, deducir e inferir información con base en premisas conocidas. Permite establecer </span><span style=\"background-color: #272822\">  </span>  \n",
              "  <span style=\"color: #e6db74; text-decoration-color: #e6db74; background-color: #272822\">conexiones mentales que justifican ideas, decisiones y conclusiones.\"</span><span style=\"color: #f8f8f2; text-decoration-color: #f8f8f2; background-color: #272822\">)</span><span style=\"background-color: #272822\">                                         </span>  \n",
              " ───────────────────────────────────────────────────────────────────────────────────────────────────────────────── \n",
              "</pre>\n"
            ]
          },
          "metadata": {}
        },
        {
          "output_type": "display_data",
          "data": {
            "text/plain": [
              "\u001b[1;38;2;212;183;2mOut - Final answer: El razonamiento es el proceso mediante el cual el ser humano utiliza la lógica y el pensamiento\u001b[0m\n",
              "\u001b[1;38;2;212;183;2mpara analizar, interpretar, deducir e inferir información con base en premisas conocidas. Permite establecer \u001b[0m\n",
              "\u001b[1;38;2;212;183;2mconexiones mentales que justifican ideas, decisiones y conclusiones.\u001b[0m\n"
            ],
            "text/html": [
              "<pre style=\"white-space:pre;overflow-x:auto;line-height:normal;font-family:Menlo,'DejaVu Sans Mono',consolas,'Courier New',monospace\"><span style=\"color: #d4b702; text-decoration-color: #d4b702; font-weight: bold\">Out - Final answer: El razonamiento es el proceso mediante el cual el ser humano utiliza la lógica y el pensamiento</span>\n",
              "<span style=\"color: #d4b702; text-decoration-color: #d4b702; font-weight: bold\">para analizar, interpretar, deducir e inferir información con base en premisas conocidas. Permite establecer </span>\n",
              "<span style=\"color: #d4b702; text-decoration-color: #d4b702; font-weight: bold\">conexiones mentales que justifican ideas, decisiones y conclusiones.</span>\n",
              "</pre>\n"
            ]
          },
          "metadata": {}
        },
        {
          "output_type": "display_data",
          "data": {
            "text/plain": [
              "\u001b[2m[Step 1: Duration 3.61 seconds| Input tokens: 5,371 | Output tokens: 213]\u001b[0m\n"
            ],
            "text/html": [
              "<pre style=\"white-space:pre;overflow-x:auto;line-height:normal;font-family:Menlo,'DejaVu Sans Mono',consolas,'Courier New',monospace\"><span style=\"color: #7f7f7f; text-decoration-color: #7f7f7f\">[Step 1: Duration 3.61 seconds| Input tokens: 5,371 | Output tokens: 213]</span>\n",
              "</pre>\n"
            ]
          },
          "metadata": {}
        },
        {
          "output_type": "stream",
          "name": "stdout",
          "text": [
            "El razonamiento es el proceso mediante el cual el ser humano utiliza la lógica y el pensamiento para analizar, interpretar, deducir e inferir información con base en premisas conocidas. Permite establecer conexiones mentales que justifican ideas, decisiones y conclusiones.\n"
          ]
        }
      ]
    },
    {
      "cell_type": "code",
      "source": [
        "from smolagents import CodeAgent, DuckDuckGoSearchTool, HfApiModel\n",
        "\n",
        "# Initialize the agent\n",
        "research_agent = CodeAgent(tools=[DuckDuckGoSearchTool()], model=HfApiModel())\n",
        "\n",
        "questions = [\n",
        "    \"What are the main types of machine learning?\",\n",
        "    \"Can you explain supervised learning in more detail?\",\n",
        "    \"What are some popular algorithms for this type?\",\n",
        "]\n",
        "\n",
        "response = research_agent.run(\"\\n\".join(questions))\n",
        "print(response)\n"
      ],
      "metadata": {
        "colab": {
          "base_uri": "https://localhost:8080/",
          "height": 1000
        },
        "id": "9xUlQGryVQ08",
        "outputId": "c1168ec8-855e-4476-9dac-4defd8506516"
      },
      "execution_count": 9,
      "outputs": [
        {
          "output_type": "display_data",
          "data": {
            "text/plain": [
              "\u001b[38;2;212;183;2m╭─\u001b[0m\u001b[38;2;212;183;2m───────────────────────────────────────────────────\u001b[0m\u001b[38;2;212;183;2m \u001b[0m\u001b[1;38;2;212;183;2mNew run\u001b[0m\u001b[38;2;212;183;2m \u001b[0m\u001b[38;2;212;183;2m───────────────────────────────────────────────────\u001b[0m\u001b[38;2;212;183;2m─╮\u001b[0m\n",
              "\u001b[38;2;212;183;2m│\u001b[0m                                                                                                                 \u001b[38;2;212;183;2m│\u001b[0m\n",
              "\u001b[38;2;212;183;2m│\u001b[0m \u001b[1mWhat are the main types of machine learning?\u001b[0m                                                                    \u001b[38;2;212;183;2m│\u001b[0m\n",
              "\u001b[38;2;212;183;2m│\u001b[0m \u001b[1mCan you explain supervised learning in more detail?\u001b[0m                                                             \u001b[38;2;212;183;2m│\u001b[0m\n",
              "\u001b[38;2;212;183;2m│\u001b[0m \u001b[1mWhat are some popular algorithms for this type?\u001b[0m                                                                 \u001b[38;2;212;183;2m│\u001b[0m\n",
              "\u001b[38;2;212;183;2m│\u001b[0m                                                                                                                 \u001b[38;2;212;183;2m│\u001b[0m\n",
              "\u001b[38;2;212;183;2m╰─\u001b[0m\u001b[38;2;212;183;2m HfApiModel - Qwen/Qwen2.5-Coder-32B-Instruct \u001b[0m\u001b[38;2;212;183;2m─────────────────────────────────────────────────────────────────\u001b[0m\u001b[38;2;212;183;2m─╯\u001b[0m\n"
            ],
            "text/html": [
              "<pre style=\"white-space:pre;overflow-x:auto;line-height:normal;font-family:Menlo,'DejaVu Sans Mono',consolas,'Courier New',monospace\"><span style=\"color: #d4b702; text-decoration-color: #d4b702\">╭──────────────────────────────────────────────────── </span><span style=\"color: #d4b702; text-decoration-color: #d4b702; font-weight: bold\">New run</span><span style=\"color: #d4b702; text-decoration-color: #d4b702\"> ────────────────────────────────────────────────────╮</span>\n",
              "<span style=\"color: #d4b702; text-decoration-color: #d4b702\">│</span>                                                                                                                 <span style=\"color: #d4b702; text-decoration-color: #d4b702\">│</span>\n",
              "<span style=\"color: #d4b702; text-decoration-color: #d4b702\">│</span> <span style=\"font-weight: bold\">What are the main types of machine learning?</span>                                                                    <span style=\"color: #d4b702; text-decoration-color: #d4b702\">│</span>\n",
              "<span style=\"color: #d4b702; text-decoration-color: #d4b702\">│</span> <span style=\"font-weight: bold\">Can you explain supervised learning in more detail?</span>                                                             <span style=\"color: #d4b702; text-decoration-color: #d4b702\">│</span>\n",
              "<span style=\"color: #d4b702; text-decoration-color: #d4b702\">│</span> <span style=\"font-weight: bold\">What are some popular algorithms for this type?</span>                                                                 <span style=\"color: #d4b702; text-decoration-color: #d4b702\">│</span>\n",
              "<span style=\"color: #d4b702; text-decoration-color: #d4b702\">│</span>                                                                                                                 <span style=\"color: #d4b702; text-decoration-color: #d4b702\">│</span>\n",
              "<span style=\"color: #d4b702; text-decoration-color: #d4b702\">╰─ HfApiModel - Qwen/Qwen2.5-Coder-32B-Instruct ──────────────────────────────────────────────────────────────────╯</span>\n",
              "</pre>\n"
            ]
          },
          "metadata": {}
        },
        {
          "output_type": "display_data",
          "data": {
            "text/plain": [
              "\u001b[38;2;212;183;2m━━━━━━━━━━━━━━━━━━━━━━━━━━━━━━━━━━━━━━━━━━━━━━━━━━━━━ \u001b[0m\u001b[1mStep \u001b[0m\u001b[1;36m1\u001b[0m\u001b[38;2;212;183;2m ━━━━━━━━━━━━━━━━━━━━━━━━━━━━━━━━━━━━━━━━━━━━━━━━━━━━━━\u001b[0m\n"
            ],
            "text/html": [
              "<pre style=\"white-space:pre;overflow-x:auto;line-height:normal;font-family:Menlo,'DejaVu Sans Mono',consolas,'Courier New',monospace\"><span style=\"color: #d4b702; text-decoration-color: #d4b702\">━━━━━━━━━━━━━━━━━━━━━━━━━━━━━━━━━━━━━━━━━━━━━━━━━━━━━ </span><span style=\"font-weight: bold\">Step </span><span style=\"color: #008080; text-decoration-color: #008080; font-weight: bold\">1</span><span style=\"color: #d4b702; text-decoration-color: #d4b702\"> ━━━━━━━━━━━━━━━━━━━━━━━━━━━━━━━━━━━━━━━━━━━━━━━━━━━━━━</span>\n",
              "</pre>\n"
            ]
          },
          "metadata": {}
        },
        {
          "output_type": "display_data",
          "data": {
            "text/plain": [
              " ─ \u001b[1mExecuting parsed code:\u001b[0m ──────────────────────────────────────────────────────────────────────────────────────── \n",
              "  \u001b[38;2;248;248;242;48;2;39;40;34mml_types\u001b[0m\u001b[38;2;248;248;242;48;2;39;40;34m \u001b[0m\u001b[38;2;255;70;137;48;2;39;40;34m=\u001b[0m\u001b[38;2;248;248;242;48;2;39;40;34m \u001b[0m\u001b[38;2;248;248;242;48;2;39;40;34mweb_search\u001b[0m\u001b[38;2;248;248;242;48;2;39;40;34m(\u001b[0m\u001b[38;2;248;248;242;48;2;39;40;34mquery\u001b[0m\u001b[38;2;255;70;137;48;2;39;40;34m=\u001b[0m\u001b[38;2;230;219;116;48;2;39;40;34m\"\u001b[0m\u001b[38;2;230;219;116;48;2;39;40;34mmain types of machine learning\u001b[0m\u001b[38;2;230;219;116;48;2;39;40;34m\"\u001b[0m\u001b[38;2;248;248;242;48;2;39;40;34m)\u001b[0m\u001b[48;2;39;40;34m                                                  \u001b[0m  \n",
              "  \u001b[38;2;248;248;242;48;2;39;40;34mprint\u001b[0m\u001b[38;2;248;248;242;48;2;39;40;34m(\u001b[0m\u001b[38;2;248;248;242;48;2;39;40;34mml_types\u001b[0m\u001b[38;2;248;248;242;48;2;39;40;34m)\u001b[0m\u001b[48;2;39;40;34m                                                                                                \u001b[0m  \n",
              " ───────────────────────────────────────────────────────────────────────────────────────────────────────────────── \n"
            ],
            "text/html": [
              "<pre style=\"white-space:pre;overflow-x:auto;line-height:normal;font-family:Menlo,'DejaVu Sans Mono',consolas,'Courier New',monospace\"> ─ <span style=\"font-weight: bold\">Executing parsed code:</span> ──────────────────────────────────────────────────────────────────────────────────────── \n",
              "  <span style=\"color: #f8f8f2; text-decoration-color: #f8f8f2; background-color: #272822\">ml_types </span><span style=\"color: #ff4689; text-decoration-color: #ff4689; background-color: #272822\">=</span><span style=\"color: #f8f8f2; text-decoration-color: #f8f8f2; background-color: #272822\"> web_search(query</span><span style=\"color: #ff4689; text-decoration-color: #ff4689; background-color: #272822\">=</span><span style=\"color: #e6db74; text-decoration-color: #e6db74; background-color: #272822\">\"main types of machine learning\"</span><span style=\"color: #f8f8f2; text-decoration-color: #f8f8f2; background-color: #272822\">)</span><span style=\"background-color: #272822\">                                                  </span>  \n",
              "  <span style=\"color: #f8f8f2; text-decoration-color: #f8f8f2; background-color: #272822\">print(ml_types)</span><span style=\"background-color: #272822\">                                                                                                </span>  \n",
              " ───────────────────────────────────────────────────────────────────────────────────────────────────────────────── \n",
              "</pre>\n"
            ]
          },
          "metadata": {}
        },
        {
          "output_type": "display_data",
          "data": {
            "text/plain": [
              "\u001b[1mExecution logs:\u001b[0m\n",
              "## Search Results\n",
              "\n",
              "[Types of Machine Learning - GeeksforGeeks](https://www.geeksforgeeks.org/types-of-machine-learning/)\n",
              "Machine learning helps to predict massive amounts of data. It helps to deliver fast and accurate results to get \n",
              "profitable opportunities. Types of Machine Learning. There are several types of machine learning, each with special\n",
              "characteristics and applications. Some of the main types of machine learning algorithms are as follows:\n",
              "\n",
              "[Types of Machine Learning | IBM](https://www.ibm.com/think/topics/machine-learning-types)\n",
              "Explore the five major machine learning types, including their unique benefits and capabilities, that teams can \n",
              "leverage for different tasks. ... Supervised machine learning is a type of machine learning where the model is \n",
              "trained on a labeled dataset (i.e., the target or outcome variable is known). For instance, if data scientists were\n",
              "...\n",
              "\n",
              "[Types of Machine Learning: A Detailed Guide to the 4 Main Types - \n",
              "Emeritus](https://emeritus.org/blog/ai-and-ml-types-of-machine-learning/)\n",
              "Unsupervised learning is one of the four main types of machine learning techniques. It utilizes unlabeled and \n",
              "unclassified datasets to make predictions without human intervention. This method is useful for categorizing or \n",
              "grouping unsorted data based on similarities and differences, as well as discovering hidden patterns and trends in \n",
              "the input ...\n",
              "\n",
              "[3 Types of Machine Learning You Should Know - \n",
              "Coursera](https://www.coursera.org/articles/types-of-machine-learning)\n",
              "Career paths in machine learning The World Economic Forum's \"Future of Jobs Report 2023\" names AI and Machine \n",
              "Learning Specialists among the top fastest-growing jobs [].In 2023, Indeed ranked machine learning engineer number \n",
              "eight on its list of the Best Jobs in the United States [].Machine learning is an in-demand field that lends itself\n",
              "to several possible career paths, including:\n",
              "\n",
              "[Machine Learning Models - GeeksforGeeks](https://www.geeksforgeeks.org/machine-learning-models/)\n",
              "Types of Machine Learning Models. Machine learning models can be broadly categorized into four main paradigms based\n",
              "on the type of data and learning goals: 1. Supervised Models. Supervised learning is the study of algorithms that \n",
              "use labeled data in which each data instance has a known category or value to which it belongs.\n",
              "\n",
              "[Types of Machine Learning](https://www.appliedaicourse.com/blog/types-of-machine-learning/)\n",
              "The main types of machine learning are supervised, unsupervised, semi-supervised, and reinforcement learning. \n",
              "Supervised learning uses labeled data to predict outcomes, while unsupervised learning finds patterns in unlabeled \n",
              "data. Semi-supervised combines labeled and unlabeled data, and reinforcement learning trains an agent through \n",
              "feedback to ...\n",
              "\n",
              "[Types of Machine Learning - Javatpoint](https://www.javatpoint.com/types-of-machine-learning)\n",
              "Types of Machine Learning. Machine learning is a subset of AI, which enables the machine to automatically learn \n",
              "from data, improve performance from past experiences, and make predictions. Machine learning contains a set of \n",
              "algorithms that work on a huge amount of data.\n",
              "\n",
              "[4 Types of Learning in Machine Learning Explained - \n",
              "TechTarget](https://www.techtarget.com/searchEnterpriseAI/tip/Types-of-learning-in-machine-learning-explained)\n",
              "The four main types of machine learning and their most common algorithms. Here's a deeper look at the four main \n",
              "types of machine learning models. 1. Supervised learning model. Supervised learning models work with data that has \n",
              "been previously labeled. The downside is that someone or some process needs to apply these labels.\n",
              "\n",
              "[4 Types of Machine Learning - Built In](https://builtin.com/machine-learning/types-of-machine-learning)\n",
              "Supervised learning, like each of these machine learning types, serves as an umbrella for specific algorithms and \n",
              "statistical methods, including the ones below. Classification . Used to further categorize data, classification \n",
              "algorithms are a great tool to sort, and even hide, that data. (If you use a Gmail or any large email client, you \n",
              "may ...\n",
              "\n",
              "[Types of Machine Learning - SKILLFLOOR](https://skillfloor.com/blog/types-of-machine-learning)\n",
              "What are the main types of machine learning, and how do they work? The Three Pillars of Machine Learning 1. \n",
              "Supervised Learning: The Teacher-Student Model. If I had to describe supervised learning, I'd call it the \n",
              "\"teacher-student\" model. Imagine sitting in a classroom where your teacher shows you examples and tells you the \n",
              "answers.\n",
              "\n",
              "Out: None\n"
            ],
            "text/html": [
              "<pre style=\"white-space:pre;overflow-x:auto;line-height:normal;font-family:Menlo,'DejaVu Sans Mono',consolas,'Courier New',monospace\"><span style=\"font-weight: bold\">Execution logs:</span>\n",
              "## Search Results\n",
              "\n",
              "[Types of Machine Learning - GeeksforGeeks](https://www.geeksforgeeks.org/types-of-machine-learning/)\n",
              "Machine learning helps to predict massive amounts of data. It helps to deliver fast and accurate results to get \n",
              "profitable opportunities. Types of Machine Learning. There are several types of machine learning, each with special\n",
              "characteristics and applications. Some of the main types of machine learning algorithms are as follows:\n",
              "\n",
              "[Types of Machine Learning | IBM](https://www.ibm.com/think/topics/machine-learning-types)\n",
              "Explore the five major machine learning types, including their unique benefits and capabilities, that teams can \n",
              "leverage for different tasks. ... Supervised machine learning is a type of machine learning where the model is \n",
              "trained on a labeled dataset (i.e., the target or outcome variable is known). For instance, if data scientists were\n",
              "...\n",
              "\n",
              "[Types of Machine Learning: A Detailed Guide to the 4 Main Types - \n",
              "Emeritus](https://emeritus.org/blog/ai-and-ml-types-of-machine-learning/)\n",
              "Unsupervised learning is one of the four main types of machine learning techniques. It utilizes unlabeled and \n",
              "unclassified datasets to make predictions without human intervention. This method is useful for categorizing or \n",
              "grouping unsorted data based on similarities and differences, as well as discovering hidden patterns and trends in \n",
              "the input ...\n",
              "\n",
              "[3 Types of Machine Learning You Should Know - \n",
              "Coursera](https://www.coursera.org/articles/types-of-machine-learning)\n",
              "Career paths in machine learning The World Economic Forum's \"Future of Jobs Report 2023\" names AI and Machine \n",
              "Learning Specialists among the top fastest-growing jobs [].In 2023, Indeed ranked machine learning engineer number \n",
              "eight on its list of the Best Jobs in the United States [].Machine learning is an in-demand field that lends itself\n",
              "to several possible career paths, including:\n",
              "\n",
              "[Machine Learning Models - GeeksforGeeks](https://www.geeksforgeeks.org/machine-learning-models/)\n",
              "Types of Machine Learning Models. Machine learning models can be broadly categorized into four main paradigms based\n",
              "on the type of data and learning goals: 1. Supervised Models. Supervised learning is the study of algorithms that \n",
              "use labeled data in which each data instance has a known category or value to which it belongs.\n",
              "\n",
              "[Types of Machine Learning](https://www.appliedaicourse.com/blog/types-of-machine-learning/)\n",
              "The main types of machine learning are supervised, unsupervised, semi-supervised, and reinforcement learning. \n",
              "Supervised learning uses labeled data to predict outcomes, while unsupervised learning finds patterns in unlabeled \n",
              "data. Semi-supervised combines labeled and unlabeled data, and reinforcement learning trains an agent through \n",
              "feedback to ...\n",
              "\n",
              "[Types of Machine Learning - Javatpoint](https://www.javatpoint.com/types-of-machine-learning)\n",
              "Types of Machine Learning. Machine learning is a subset of AI, which enables the machine to automatically learn \n",
              "from data, improve performance from past experiences, and make predictions. Machine learning contains a set of \n",
              "algorithms that work on a huge amount of data.\n",
              "\n",
              "[4 Types of Learning in Machine Learning Explained - \n",
              "TechTarget](https://www.techtarget.com/searchEnterpriseAI/tip/Types-of-learning-in-machine-learning-explained)\n",
              "The four main types of machine learning and their most common algorithms. Here's a deeper look at the four main \n",
              "types of machine learning models. 1. Supervised learning model. Supervised learning models work with data that has \n",
              "been previously labeled. The downside is that someone or some process needs to apply these labels.\n",
              "\n",
              "[4 Types of Machine Learning - Built In](https://builtin.com/machine-learning/types-of-machine-learning)\n",
              "Supervised learning, like each of these machine learning types, serves as an umbrella for specific algorithms and \n",
              "statistical methods, including the ones below. Classification . Used to further categorize data, classification \n",
              "algorithms are a great tool to sort, and even hide, that data. (If you use a Gmail or any large email client, you \n",
              "may ...\n",
              "\n",
              "[Types of Machine Learning - SKILLFLOOR](https://skillfloor.com/blog/types-of-machine-learning)\n",
              "What are the main types of machine learning, and how do they work? The Three Pillars of Machine Learning 1. \n",
              "Supervised Learning: The Teacher-Student Model. If I had to describe supervised learning, I'd call it the \n",
              "\"teacher-student\" model. Imagine sitting in a classroom where your teacher shows you examples and tells you the \n",
              "answers.\n",
              "\n",
              "Out: None\n",
              "</pre>\n"
            ]
          },
          "metadata": {}
        },
        {
          "output_type": "display_data",
          "data": {
            "text/plain": [
              "\u001b[2m[Step 0: Duration 2.89 seconds| Input tokens: 2,097 | Output tokens: 74]\u001b[0m\n"
            ],
            "text/html": [
              "<pre style=\"white-space:pre;overflow-x:auto;line-height:normal;font-family:Menlo,'DejaVu Sans Mono',consolas,'Courier New',monospace\"><span style=\"color: #7f7f7f; text-decoration-color: #7f7f7f\">[Step 0: Duration 2.89 seconds| Input tokens: 2,097 | Output tokens: 74]</span>\n",
              "</pre>\n"
            ]
          },
          "metadata": {}
        },
        {
          "output_type": "display_data",
          "data": {
            "text/plain": [
              "\u001b[38;2;212;183;2m━━━━━━━━━━━━━━━━━━━━━━━━━━━━━━━━━━━━━━━━━━━━━━━━━━━━━ \u001b[0m\u001b[1mStep \u001b[0m\u001b[1;36m2\u001b[0m\u001b[38;2;212;183;2m ━━━━━━━━━━━━━━━━━━━━━━━━━━━━━━━━━━━━━━━━━━━━━━━━━━━━━━\u001b[0m\n"
            ],
            "text/html": [
              "<pre style=\"white-space:pre;overflow-x:auto;line-height:normal;font-family:Menlo,'DejaVu Sans Mono',consolas,'Courier New',monospace\"><span style=\"color: #d4b702; text-decoration-color: #d4b702\">━━━━━━━━━━━━━━━━━━━━━━━━━━━━━━━━━━━━━━━━━━━━━━━━━━━━━ </span><span style=\"font-weight: bold\">Step </span><span style=\"color: #008080; text-decoration-color: #008080; font-weight: bold\">2</span><span style=\"color: #d4b702; text-decoration-color: #d4b702\"> ━━━━━━━━━━━━━━━━━━━━━━━━━━━━━━━━━━━━━━━━━━━━━━━━━━━━━━</span>\n",
              "</pre>\n"
            ]
          },
          "metadata": {}
        },
        {
          "output_type": "display_data",
          "data": {
            "text/plain": [
              " ─ \u001b[1mExecuting parsed code:\u001b[0m ──────────────────────────────────────────────────────────────────────────────────────── \n",
              "  \u001b[38;2;248;248;242;48;2;39;40;34msupervised_ml\u001b[0m\u001b[38;2;248;248;242;48;2;39;40;34m \u001b[0m\u001b[38;2;255;70;137;48;2;39;40;34m=\u001b[0m\u001b[38;2;248;248;242;48;2;39;40;34m \u001b[0m\u001b[38;2;248;248;242;48;2;39;40;34mweb_search\u001b[0m\u001b[38;2;248;248;242;48;2;39;40;34m(\u001b[0m\u001b[38;2;248;248;242;48;2;39;40;34mquery\u001b[0m\u001b[38;2;255;70;137;48;2;39;40;34m=\u001b[0m\u001b[38;2;230;219;116;48;2;39;40;34m\"\u001b[0m\u001b[38;2;230;219;116;48;2;39;40;34msupervised learning details and popular algorithms\u001b[0m\u001b[38;2;230;219;116;48;2;39;40;34m\"\u001b[0m\u001b[38;2;248;248;242;48;2;39;40;34m)\u001b[0m\u001b[48;2;39;40;34m                         \u001b[0m  \n",
              "  \u001b[38;2;248;248;242;48;2;39;40;34mprint\u001b[0m\u001b[38;2;248;248;242;48;2;39;40;34m(\u001b[0m\u001b[38;2;248;248;242;48;2;39;40;34msupervised_ml\u001b[0m\u001b[38;2;248;248;242;48;2;39;40;34m)\u001b[0m\u001b[48;2;39;40;34m                                                                                           \u001b[0m  \n",
              " ───────────────────────────────────────────────────────────────────────────────────────────────────────────────── \n"
            ],
            "text/html": [
              "<pre style=\"white-space:pre;overflow-x:auto;line-height:normal;font-family:Menlo,'DejaVu Sans Mono',consolas,'Courier New',monospace\"> ─ <span style=\"font-weight: bold\">Executing parsed code:</span> ──────────────────────────────────────────────────────────────────────────────────────── \n",
              "  <span style=\"color: #f8f8f2; text-decoration-color: #f8f8f2; background-color: #272822\">supervised_ml </span><span style=\"color: #ff4689; text-decoration-color: #ff4689; background-color: #272822\">=</span><span style=\"color: #f8f8f2; text-decoration-color: #f8f8f2; background-color: #272822\"> web_search(query</span><span style=\"color: #ff4689; text-decoration-color: #ff4689; background-color: #272822\">=</span><span style=\"color: #e6db74; text-decoration-color: #e6db74; background-color: #272822\">\"supervised learning details and popular algorithms\"</span><span style=\"color: #f8f8f2; text-decoration-color: #f8f8f2; background-color: #272822\">)</span><span style=\"background-color: #272822\">                         </span>  \n",
              "  <span style=\"color: #f8f8f2; text-decoration-color: #f8f8f2; background-color: #272822\">print(supervised_ml)</span><span style=\"background-color: #272822\">                                                                                           </span>  \n",
              " ───────────────────────────────────────────────────────────────────────────────────────────────────────────────── \n",
              "</pre>\n"
            ]
          },
          "metadata": {}
        },
        {
          "output_type": "display_data",
          "data": {
            "text/plain": [
              "\u001b[1mExecution logs:\u001b[0m\n",
              "## Search Results\n",
              "\n",
              "[10 Most Popular Supervised Learning Algorithms In Machine \n",
              "Learning](https://dataaspirant.com/supervised-learning-algorithms/)\n",
              "Supervised Learning Algorithms are the most widely used approaches in machine learning. Its popularity is due to \n",
              "its ability to predict a wide range of problems accurately. However, its effectiveness depends on the quality of \n",
              "the training data and the choice of the algorithm and model architecture used.In this guide, you'll learn the \n",
              "basics of supervised\n",
              "\n",
              "[Supervised Machine Learning - GeeksforGeeks](https://www.geeksforgeeks.org/supervised-machine-learning/)\n",
              "What is Supervised Machine Learning? As we explained before, supervised learning is a type of machine learning \n",
              "where a model is trained on labeled data—meaning each input is paired with the correct output. the model learns by \n",
              "comparing its predictions with the actual answers provided in the training data. Over time, it adjusts itself to \n",
              "minimize errors and improve accuracy.\n",
              "\n",
              "[Top 10 Machine Learning Algorithms in 2024 - \n",
              "GeeksforGeeks](https://www.geeksforgeeks.org/top-10-algorithms-every-machine-learning-engineer-should-know/)\n",
              "The Decision Trees Algorithm is a supervised machine learning technique used for both ... similar to how a map \n",
              "highlights the most important landmarks while omitting less relevant details. Time Complexity:[Tex]O(n⋅m2+m3 ... \n",
              "What are the 5 popular algorithms of machine learning? 5 popular machine algorithms are: Linear Regression; Random \n",
              "...\n",
              "\n",
              "[Supervised Learning: Algorithms, Examples, and How It Works - \n",
              "DatabaseTown](https://databasetown.com/supervised-learning-algorithms/)\n",
              "How Supervised Learning Works? Supervised Learning Algorithms. Supervised machine learning encompasses various \n",
              "algorithms, each suited for different types of problems. Let's explore some of the commonly used algorithms: Linear\n",
              "Regression. Linear regression is a popular algorithm used for predicting continuous output values.\n",
              "\n",
              "[Supervised Machine Learning Cheat Sheet - \n",
              "DataCamp](https://www.datacamp.com/cheat-sheet/supervised-machine-learning-cheat-sheet)\n",
              "An ensemble learning method where weak predictive learners are combined to improve accuracy. Popular techniques \n",
              "include XGBoost, LightGBM and more. Handling of multicollinearity. Handling of non-linear relationships. Effective \n",
              "learning and strong generalization performance. XGBoost is fast and is often used as a benchmark algorithm.\n",
              "\n",
              "[The Comprehensive Guide to Supervised Learning \n",
              "Algorithms](https://techtics.ai/blog/supervised-learning-algorithms)\n",
              "Labels: Dependent variables that the algorithm aims to predict. Challenges in supervised learning include dealing \n",
              "with high dimensionality, irrelevant features, missing data, incorrect labeling, and data imbalances. Popular \n",
              "supervised learning algorithms include: Linear Regression: Used for predicting continuous values.\n",
              "\n",
              "[8 Best Insights of Supervised Learning Algorithms \n",
              "Unveiled](https://researchmate.net/supervised-learning-algorithms/)\n",
              "Popular Types of Supervised Learning Algorithms Linear Regression. One of the most widely used supervised learning \n",
              "algorithms is Linear Regression, which is particularly effective for regression problems where the relationship \n",
              "between variables is linear. This algorithm predicts a continuous outcome by fitting a line to the data points, \n",
              "making ...\n",
              "\n",
              "[Understanding Supervised Learning: Theory and \n",
              "Overview](https://www.kdnuggets.com/understanding-supervised-learning-theory-and-overview)\n",
              "Overview of Popular Supervised Learning Algorithms . Now, we have a basic understanding of the overall process. We \n",
              "will explore the popular supervised machine learning algorithms, their usage, and how they work: ... This helps \n",
              "keep our tree focused on the most important factors and prevents it from getting lost in the details. Image by Jake\n",
              "...\n",
              "\n",
              "[Supervised Learning Algorithms: Applications, Types, Examples - Hero \n",
              "Vired](https://herovired.com/learning-hub/blogs/supervised-learning/)\n",
              "Many commercial applications may be developed and advanced using supervised learning models, including the \n",
              "following: Image- and Object-Recognition: When used in conjunction with various computer vision techniques and \n",
              "picture analysis, supervised learning algorithms can be used to find, isolate, and classify items from movies or \n",
              "images.\n",
              "\n",
              "[Introduction to Supervised Learning Algorithms in Machine \n",
              "Learning](https://towardsdev.com/introduction-to-supervised-learning-algorithms-in-machine-learning-1447f6f28c50)\n",
              "In supervised learning, the computer follows a similar process. It learns from labeled examples to make predictions\n",
              "on new, unseen data. The \"supervision\" comes from the labeled data, which acts as a teacher, guiding the \n",
              "algorithm's learning process. Supervised learning can be used for both regression and classification tasks.\n",
              "\n",
              "Out: None\n"
            ],
            "text/html": [
              "<pre style=\"white-space:pre;overflow-x:auto;line-height:normal;font-family:Menlo,'DejaVu Sans Mono',consolas,'Courier New',monospace\"><span style=\"font-weight: bold\">Execution logs:</span>\n",
              "## Search Results\n",
              "\n",
              "[10 Most Popular Supervised Learning Algorithms In Machine \n",
              "Learning](https://dataaspirant.com/supervised-learning-algorithms/)\n",
              "Supervised Learning Algorithms are the most widely used approaches in machine learning. Its popularity is due to \n",
              "its ability to predict a wide range of problems accurately. However, its effectiveness depends on the quality of \n",
              "the training data and the choice of the algorithm and model architecture used.In this guide, you'll learn the \n",
              "basics of supervised\n",
              "\n",
              "[Supervised Machine Learning - GeeksforGeeks](https://www.geeksforgeeks.org/supervised-machine-learning/)\n",
              "What is Supervised Machine Learning? As we explained before, supervised learning is a type of machine learning \n",
              "where a model is trained on labeled data—meaning each input is paired with the correct output. the model learns by \n",
              "comparing its predictions with the actual answers provided in the training data. Over time, it adjusts itself to \n",
              "minimize errors and improve accuracy.\n",
              "\n",
              "[Top 10 Machine Learning Algorithms in 2024 - \n",
              "GeeksforGeeks](https://www.geeksforgeeks.org/top-10-algorithms-every-machine-learning-engineer-should-know/)\n",
              "The Decision Trees Algorithm is a supervised machine learning technique used for both ... similar to how a map \n",
              "highlights the most important landmarks while omitting less relevant details. Time Complexity:[Tex]O(n⋅m2+m3 ... \n",
              "What are the 5 popular algorithms of machine learning? 5 popular machine algorithms are: Linear Regression; Random \n",
              "...\n",
              "\n",
              "[Supervised Learning: Algorithms, Examples, and How It Works - \n",
              "DatabaseTown](https://databasetown.com/supervised-learning-algorithms/)\n",
              "How Supervised Learning Works? Supervised Learning Algorithms. Supervised machine learning encompasses various \n",
              "algorithms, each suited for different types of problems. Let's explore some of the commonly used algorithms: Linear\n",
              "Regression. Linear regression is a popular algorithm used for predicting continuous output values.\n",
              "\n",
              "[Supervised Machine Learning Cheat Sheet - \n",
              "DataCamp](https://www.datacamp.com/cheat-sheet/supervised-machine-learning-cheat-sheet)\n",
              "An ensemble learning method where weak predictive learners are combined to improve accuracy. Popular techniques \n",
              "include XGBoost, LightGBM and more. Handling of multicollinearity. Handling of non-linear relationships. Effective \n",
              "learning and strong generalization performance. XGBoost is fast and is often used as a benchmark algorithm.\n",
              "\n",
              "[The Comprehensive Guide to Supervised Learning \n",
              "Algorithms](https://techtics.ai/blog/supervised-learning-algorithms)\n",
              "Labels: Dependent variables that the algorithm aims to predict. Challenges in supervised learning include dealing \n",
              "with high dimensionality, irrelevant features, missing data, incorrect labeling, and data imbalances. Popular \n",
              "supervised learning algorithms include: Linear Regression: Used for predicting continuous values.\n",
              "\n",
              "[8 Best Insights of Supervised Learning Algorithms \n",
              "Unveiled](https://researchmate.net/supervised-learning-algorithms/)\n",
              "Popular Types of Supervised Learning Algorithms Linear Regression. One of the most widely used supervised learning \n",
              "algorithms is Linear Regression, which is particularly effective for regression problems where the relationship \n",
              "between variables is linear. This algorithm predicts a continuous outcome by fitting a line to the data points, \n",
              "making ...\n",
              "\n",
              "[Understanding Supervised Learning: Theory and \n",
              "Overview](https://www.kdnuggets.com/understanding-supervised-learning-theory-and-overview)\n",
              "Overview of Popular Supervised Learning Algorithms . Now, we have a basic understanding of the overall process. We \n",
              "will explore the popular supervised machine learning algorithms, their usage, and how they work: ... This helps \n",
              "keep our tree focused on the most important factors and prevents it from getting lost in the details. Image by Jake\n",
              "...\n",
              "\n",
              "[Supervised Learning Algorithms: Applications, Types, Examples - Hero \n",
              "Vired](https://herovired.com/learning-hub/blogs/supervised-learning/)\n",
              "Many commercial applications may be developed and advanced using supervised learning models, including the \n",
              "following: Image- and Object-Recognition: When used in conjunction with various computer vision techniques and \n",
              "picture analysis, supervised learning algorithms can be used to find, isolate, and classify items from movies or \n",
              "images.\n",
              "\n",
              "[Introduction to Supervised Learning Algorithms in Machine \n",
              "Learning](https://towardsdev.com/introduction-to-supervised-learning-algorithms-in-machine-learning-1447f6f28c50)\n",
              "In supervised learning, the computer follows a similar process. It learns from labeled examples to make predictions\n",
              "on new, unseen data. The \"supervision\" comes from the labeled data, which acts as a teacher, guiding the \n",
              "algorithm's learning process. Supervised learning can be used for both regression and classification tasks.\n",
              "\n",
              "Out: None\n",
              "</pre>\n"
            ]
          },
          "metadata": {}
        },
        {
          "output_type": "display_data",
          "data": {
            "text/plain": [
              "\u001b[2m[Step 1: Duration 3.64 seconds| Input tokens: 5,250 | Output tokens: 163]\u001b[0m\n"
            ],
            "text/html": [
              "<pre style=\"white-space:pre;overflow-x:auto;line-height:normal;font-family:Menlo,'DejaVu Sans Mono',consolas,'Courier New',monospace\"><span style=\"color: #7f7f7f; text-decoration-color: #7f7f7f\">[Step 1: Duration 3.64 seconds| Input tokens: 5,250 | Output tokens: 163]</span>\n",
              "</pre>\n"
            ]
          },
          "metadata": {}
        },
        {
          "output_type": "display_data",
          "data": {
            "text/plain": [
              "\u001b[38;2;212;183;2m━━━━━━━━━━━━━━━━━━━━━━━━━━━━━━━━━━━━━━━━━━━━━━━━━━━━━ \u001b[0m\u001b[1mStep \u001b[0m\u001b[1;36m3\u001b[0m\u001b[38;2;212;183;2m ━━━━━━━━━━━━━━━━━━━━━━━━━━━━━━━━━━━━━━━━━━━━━━━━━━━━━━\u001b[0m\n"
            ],
            "text/html": [
              "<pre style=\"white-space:pre;overflow-x:auto;line-height:normal;font-family:Menlo,'DejaVu Sans Mono',consolas,'Courier New',monospace\"><span style=\"color: #d4b702; text-decoration-color: #d4b702\">━━━━━━━━━━━━━━━━━━━━━━━━━━━━━━━━━━━━━━━━━━━━━━━━━━━━━ </span><span style=\"font-weight: bold\">Step </span><span style=\"color: #008080; text-decoration-color: #008080; font-weight: bold\">3</span><span style=\"color: #d4b702; text-decoration-color: #d4b702\"> ━━━━━━━━━━━━━━━━━━━━━━━━━━━━━━━━━━━━━━━━━━━━━━━━━━━━━━</span>\n",
              "</pre>\n"
            ]
          },
          "metadata": {}
        },
        {
          "output_type": "display_data",
          "data": {
            "text/plain": [
              " ─ \u001b[1mExecuting parsed code:\u001b[0m ──────────────────────────────────────────────────────────────────────────────────────── \n",
              "  \u001b[38;2;248;248;242;48;2;39;40;34mfinal_answer\u001b[0m\u001b[38;2;248;248;242;48;2;39;40;34m(\u001b[0m\u001b[38;2;248;248;242;48;2;39;40;34m{\u001b[0m\u001b[48;2;39;40;34m                                                                                                 \u001b[0m  \n",
              "  \u001b[38;2;248;248;242;48;2;39;40;34m    \u001b[0m\u001b[38;2;230;219;116;48;2;39;40;34m\"\u001b[0m\u001b[38;2;230;219;116;48;2;39;40;34msupervised_learning_explanation\u001b[0m\u001b[38;2;230;219;116;48;2;39;40;34m\"\u001b[0m\u001b[38;2;248;248;242;48;2;39;40;34m:\u001b[0m\u001b[38;2;248;248;242;48;2;39;40;34m \u001b[0m\u001b[38;2;230;219;116;48;2;39;40;34m\"\u001b[0m\u001b[38;2;230;219;116;48;2;39;40;34mSupervised learning is a type of machine learning where a model is \u001b[0m\u001b[48;2;39;40;34m    \u001b[0m  \n",
              "  \u001b[38;2;230;219;116;48;2;39;40;34mtrained on labeled data—meaning each input is paired with the correct output. The model learns by comparing its\u001b[0m  \n",
              "  \u001b[38;2;230;219;116;48;2;39;40;34mpredictions with the actual answers provided in the training data. Over time, it adjusts itself to minimize \u001b[0m\u001b[48;2;39;40;34m   \u001b[0m  \n",
              "  \u001b[38;2;230;219;116;48;2;39;40;34merrors and improve accuracy.\u001b[0m\u001b[38;2;230;219;116;48;2;39;40;34m\"\u001b[0m\u001b[38;2;248;248;242;48;2;39;40;34m,\u001b[0m\u001b[48;2;39;40;34m                                                                                 \u001b[0m  \n",
              "  \u001b[38;2;248;248;242;48;2;39;40;34m    \u001b[0m\u001b[38;2;230;219;116;48;2;39;40;34m\"\u001b[0m\u001b[38;2;230;219;116;48;2;39;40;34mpopular_algorithms\u001b[0m\u001b[38;2;230;219;116;48;2;39;40;34m\"\u001b[0m\u001b[38;2;248;248;242;48;2;39;40;34m:\u001b[0m\u001b[38;2;248;248;242;48;2;39;40;34m \u001b[0m\u001b[38;2;248;248;242;48;2;39;40;34m[\u001b[0m\u001b[48;2;39;40;34m                                                                                    \u001b[0m  \n",
              "  \u001b[38;2;248;248;242;48;2;39;40;34m        \u001b[0m\u001b[38;2;248;248;242;48;2;39;40;34m{\u001b[0m\u001b[38;2;230;219;116;48;2;39;40;34m\"\u001b[0m\u001b[38;2;230;219;116;48;2;39;40;34mname\u001b[0m\u001b[38;2;230;219;116;48;2;39;40;34m\"\u001b[0m\u001b[38;2;248;248;242;48;2;39;40;34m:\u001b[0m\u001b[38;2;248;248;242;48;2;39;40;34m \u001b[0m\u001b[38;2;230;219;116;48;2;39;40;34m\"\u001b[0m\u001b[38;2;230;219;116;48;2;39;40;34mLinear Regression\u001b[0m\u001b[38;2;230;219;116;48;2;39;40;34m\"\u001b[0m\u001b[38;2;248;248;242;48;2;39;40;34m,\u001b[0m\u001b[38;2;248;248;242;48;2;39;40;34m \u001b[0m\u001b[38;2;230;219;116;48;2;39;40;34m\"\u001b[0m\u001b[38;2;230;219;116;48;2;39;40;34muse_case\u001b[0m\u001b[38;2;230;219;116;48;2;39;40;34m\"\u001b[0m\u001b[38;2;248;248;242;48;2;39;40;34m:\u001b[0m\u001b[38;2;248;248;242;48;2;39;40;34m \u001b[0m\u001b[38;2;230;219;116;48;2;39;40;34m\"\u001b[0m\u001b[38;2;230;219;116;48;2;39;40;34mPredicting continuous values\u001b[0m\u001b[38;2;230;219;116;48;2;39;40;34m\"\u001b[0m\u001b[38;2;248;248;242;48;2;39;40;34m}\u001b[0m\u001b[38;2;248;248;242;48;2;39;40;34m,\u001b[0m\u001b[48;2;39;40;34m                             \u001b[0m  \n",
              "  \u001b[38;2;248;248;242;48;2;39;40;34m        \u001b[0m\u001b[38;2;248;248;242;48;2;39;40;34m{\u001b[0m\u001b[38;2;230;219;116;48;2;39;40;34m\"\u001b[0m\u001b[38;2;230;219;116;48;2;39;40;34mname\u001b[0m\u001b[38;2;230;219;116;48;2;39;40;34m\"\u001b[0m\u001b[38;2;248;248;242;48;2;39;40;34m:\u001b[0m\u001b[38;2;248;248;242;48;2;39;40;34m \u001b[0m\u001b[38;2;230;219;116;48;2;39;40;34m\"\u001b[0m\u001b[38;2;230;219;116;48;2;39;40;34mLogistic Regression\u001b[0m\u001b[38;2;230;219;116;48;2;39;40;34m\"\u001b[0m\u001b[38;2;248;248;242;48;2;39;40;34m,\u001b[0m\u001b[38;2;248;248;242;48;2;39;40;34m \u001b[0m\u001b[38;2;230;219;116;48;2;39;40;34m\"\u001b[0m\u001b[38;2;230;219;116;48;2;39;40;34muse_case\u001b[0m\u001b[38;2;230;219;116;48;2;39;40;34m\"\u001b[0m\u001b[38;2;248;248;242;48;2;39;40;34m:\u001b[0m\u001b[38;2;248;248;242;48;2;39;40;34m \u001b[0m\u001b[38;2;230;219;116;48;2;39;40;34m\"\u001b[0m\u001b[38;2;230;219;116;48;2;39;40;34mBinary classification problems\u001b[0m\u001b[38;2;230;219;116;48;2;39;40;34m\"\u001b[0m\u001b[38;2;248;248;242;48;2;39;40;34m}\u001b[0m\u001b[38;2;248;248;242;48;2;39;40;34m,\u001b[0m\u001b[48;2;39;40;34m                         \u001b[0m  \n",
              "  \u001b[38;2;248;248;242;48;2;39;40;34m        \u001b[0m\u001b[38;2;248;248;242;48;2;39;40;34m{\u001b[0m\u001b[38;2;230;219;116;48;2;39;40;34m\"\u001b[0m\u001b[38;2;230;219;116;48;2;39;40;34mname\u001b[0m\u001b[38;2;230;219;116;48;2;39;40;34m\"\u001b[0m\u001b[38;2;248;248;242;48;2;39;40;34m:\u001b[0m\u001b[38;2;248;248;242;48;2;39;40;34m \u001b[0m\u001b[38;2;230;219;116;48;2;39;40;34m\"\u001b[0m\u001b[38;2;230;219;116;48;2;39;40;34mDecision Trees\u001b[0m\u001b[38;2;230;219;116;48;2;39;40;34m\"\u001b[0m\u001b[38;2;248;248;242;48;2;39;40;34m,\u001b[0m\u001b[38;2;248;248;242;48;2;39;40;34m \u001b[0m\u001b[38;2;230;219;116;48;2;39;40;34m\"\u001b[0m\u001b[38;2;230;219;116;48;2;39;40;34muse_case\u001b[0m\u001b[38;2;230;219;116;48;2;39;40;34m\"\u001b[0m\u001b[38;2;248;248;242;48;2;39;40;34m:\u001b[0m\u001b[38;2;248;248;242;48;2;39;40;34m \u001b[0m\u001b[38;2;230;219;116;48;2;39;40;34m\"\u001b[0m\u001b[38;2;230;219;116;48;2;39;40;34mClassification and regression\u001b[0m\u001b[38;2;230;219;116;48;2;39;40;34m\"\u001b[0m\u001b[38;2;248;248;242;48;2;39;40;34m}\u001b[0m\u001b[38;2;248;248;242;48;2;39;40;34m,\u001b[0m\u001b[48;2;39;40;34m                               \u001b[0m  \n",
              "  \u001b[38;2;248;248;242;48;2;39;40;34m        \u001b[0m\u001b[38;2;248;248;242;48;2;39;40;34m{\u001b[0m\u001b[38;2;230;219;116;48;2;39;40;34m\"\u001b[0m\u001b[38;2;230;219;116;48;2;39;40;34mname\u001b[0m\u001b[38;2;230;219;116;48;2;39;40;34m\"\u001b[0m\u001b[38;2;248;248;242;48;2;39;40;34m:\u001b[0m\u001b[38;2;248;248;242;48;2;39;40;34m \u001b[0m\u001b[38;2;230;219;116;48;2;39;40;34m\"\u001b[0m\u001b[38;2;230;219;116;48;2;39;40;34mRandom Forest\u001b[0m\u001b[38;2;230;219;116;48;2;39;40;34m\"\u001b[0m\u001b[38;2;248;248;242;48;2;39;40;34m,\u001b[0m\u001b[38;2;248;248;242;48;2;39;40;34m \u001b[0m\u001b[38;2;230;219;116;48;2;39;40;34m\"\u001b[0m\u001b[38;2;230;219;116;48;2;39;40;34muse_case\u001b[0m\u001b[38;2;230;219;116;48;2;39;40;34m\"\u001b[0m\u001b[38;2;248;248;242;48;2;39;40;34m:\u001b[0m\u001b[38;2;248;248;242;48;2;39;40;34m \u001b[0m\u001b[38;2;230;219;116;48;2;39;40;34m\"\u001b[0m\u001b[38;2;230;219;116;48;2;39;40;34mClassification and regression\u001b[0m\u001b[38;2;230;219;116;48;2;39;40;34m\"\u001b[0m\u001b[38;2;248;248;242;48;2;39;40;34m}\u001b[0m\u001b[38;2;248;248;242;48;2;39;40;34m,\u001b[0m\u001b[48;2;39;40;34m                                \u001b[0m  \n",
              "  \u001b[38;2;248;248;242;48;2;39;40;34m        \u001b[0m\u001b[38;2;248;248;242;48;2;39;40;34m{\u001b[0m\u001b[38;2;230;219;116;48;2;39;40;34m\"\u001b[0m\u001b[38;2;230;219;116;48;2;39;40;34mname\u001b[0m\u001b[38;2;230;219;116;48;2;39;40;34m\"\u001b[0m\u001b[38;2;248;248;242;48;2;39;40;34m:\u001b[0m\u001b[38;2;248;248;242;48;2;39;40;34m \u001b[0m\u001b[38;2;230;219;116;48;2;39;40;34m\"\u001b[0m\u001b[38;2;230;219;116;48;2;39;40;34mSupport Vector Machines (SVM)\u001b[0m\u001b[38;2;230;219;116;48;2;39;40;34m\"\u001b[0m\u001b[38;2;248;248;242;48;2;39;40;34m,\u001b[0m\u001b[38;2;248;248;242;48;2;39;40;34m \u001b[0m\u001b[38;2;230;219;116;48;2;39;40;34m\"\u001b[0m\u001b[38;2;230;219;116;48;2;39;40;34muse_case\u001b[0m\u001b[38;2;230;219;116;48;2;39;40;34m\"\u001b[0m\u001b[38;2;248;248;242;48;2;39;40;34m:\u001b[0m\u001b[38;2;248;248;242;48;2;39;40;34m \u001b[0m\u001b[38;2;230;219;116;48;2;39;40;34m\"\u001b[0m\u001b[38;2;230;219;116;48;2;39;40;34mClassification and regression\u001b[0m\u001b[38;2;230;219;116;48;2;39;40;34m\"\u001b[0m\u001b[38;2;248;248;242;48;2;39;40;34m}\u001b[0m\u001b[38;2;248;248;242;48;2;39;40;34m,\u001b[0m\u001b[48;2;39;40;34m                \u001b[0m  \n",
              "  \u001b[38;2;248;248;242;48;2;39;40;34m        \u001b[0m\u001b[38;2;248;248;242;48;2;39;40;34m{\u001b[0m\u001b[38;2;230;219;116;48;2;39;40;34m\"\u001b[0m\u001b[38;2;230;219;116;48;2;39;40;34mname\u001b[0m\u001b[38;2;230;219;116;48;2;39;40;34m\"\u001b[0m\u001b[38;2;248;248;242;48;2;39;40;34m:\u001b[0m\u001b[38;2;248;248;242;48;2;39;40;34m \u001b[0m\u001b[38;2;230;219;116;48;2;39;40;34m\"\u001b[0m\u001b[38;2;230;219;116;48;2;39;40;34mk-Nearest Neighbors (k-NN)\u001b[0m\u001b[38;2;230;219;116;48;2;39;40;34m\"\u001b[0m\u001b[38;2;248;248;242;48;2;39;40;34m,\u001b[0m\u001b[38;2;248;248;242;48;2;39;40;34m \u001b[0m\u001b[38;2;230;219;116;48;2;39;40;34m\"\u001b[0m\u001b[38;2;230;219;116;48;2;39;40;34muse_case\u001b[0m\u001b[38;2;230;219;116;48;2;39;40;34m\"\u001b[0m\u001b[38;2;248;248;242;48;2;39;40;34m:\u001b[0m\u001b[38;2;248;248;242;48;2;39;40;34m \u001b[0m\u001b[38;2;230;219;116;48;2;39;40;34m\"\u001b[0m\u001b[38;2;230;219;116;48;2;39;40;34mClassification and regression\u001b[0m\u001b[38;2;230;219;116;48;2;39;40;34m\"\u001b[0m\u001b[38;2;248;248;242;48;2;39;40;34m}\u001b[0m\u001b[38;2;248;248;242;48;2;39;40;34m,\u001b[0m\u001b[48;2;39;40;34m                   \u001b[0m  \n",
              "  \u001b[38;2;248;248;242;48;2;39;40;34m        \u001b[0m\u001b[38;2;248;248;242;48;2;39;40;34m{\u001b[0m\u001b[38;2;230;219;116;48;2;39;40;34m\"\u001b[0m\u001b[38;2;230;219;116;48;2;39;40;34mname\u001b[0m\u001b[38;2;230;219;116;48;2;39;40;34m\"\u001b[0m\u001b[38;2;248;248;242;48;2;39;40;34m:\u001b[0m\u001b[38;2;248;248;242;48;2;39;40;34m \u001b[0m\u001b[38;2;230;219;116;48;2;39;40;34m\"\u001b[0m\u001b[38;2;230;219;116;48;2;39;40;34mNaive Bayes\u001b[0m\u001b[38;2;230;219;116;48;2;39;40;34m\"\u001b[0m\u001b[38;2;248;248;242;48;2;39;40;34m,\u001b[0m\u001b[38;2;248;248;242;48;2;39;40;34m \u001b[0m\u001b[38;2;230;219;116;48;2;39;40;34m\"\u001b[0m\u001b[38;2;230;219;116;48;2;39;40;34muse_case\u001b[0m\u001b[38;2;230;219;116;48;2;39;40;34m\"\u001b[0m\u001b[38;2;248;248;242;48;2;39;40;34m:\u001b[0m\u001b[38;2;248;248;242;48;2;39;40;34m \u001b[0m\u001b[38;2;230;219;116;48;2;39;40;34m\"\u001b[0m\u001b[38;2;230;219;116;48;2;39;40;34mClassification\u001b[0m\u001b[38;2;230;219;116;48;2;39;40;34m\"\u001b[0m\u001b[38;2;248;248;242;48;2;39;40;34m}\u001b[0m\u001b[38;2;248;248;242;48;2;39;40;34m,\u001b[0m\u001b[48;2;39;40;34m                                                 \u001b[0m  \n",
              "  \u001b[38;2;248;248;242;48;2;39;40;34m        \u001b[0m\u001b[38;2;248;248;242;48;2;39;40;34m{\u001b[0m\u001b[38;2;230;219;116;48;2;39;40;34m\"\u001b[0m\u001b[38;2;230;219;116;48;2;39;40;34mname\u001b[0m\u001b[38;2;230;219;116;48;2;39;40;34m\"\u001b[0m\u001b[38;2;248;248;242;48;2;39;40;34m:\u001b[0m\u001b[38;2;248;248;242;48;2;39;40;34m \u001b[0m\u001b[38;2;230;219;116;48;2;39;40;34m\"\u001b[0m\u001b[38;2;230;219;116;48;2;39;40;34mNeural Networks\u001b[0m\u001b[38;2;230;219;116;48;2;39;40;34m\"\u001b[0m\u001b[38;2;248;248;242;48;2;39;40;34m,\u001b[0m\u001b[38;2;248;248;242;48;2;39;40;34m \u001b[0m\u001b[38;2;230;219;116;48;2;39;40;34m\"\u001b[0m\u001b[38;2;230;219;116;48;2;39;40;34muse_case\u001b[0m\u001b[38;2;230;219;116;48;2;39;40;34m\"\u001b[0m\u001b[38;2;248;248;242;48;2;39;40;34m:\u001b[0m\u001b[38;2;248;248;242;48;2;39;40;34m \u001b[0m\u001b[38;2;230;219;116;48;2;39;40;34m\"\u001b[0m\u001b[38;2;230;219;116;48;2;39;40;34mClassification and regression\u001b[0m\u001b[38;2;230;219;116;48;2;39;40;34m\"\u001b[0m\u001b[38;2;248;248;242;48;2;39;40;34m}\u001b[0m\u001b[38;2;248;248;242;48;2;39;40;34m,\u001b[0m\u001b[48;2;39;40;34m                              \u001b[0m  \n",
              "  \u001b[38;2;248;248;242;48;2;39;40;34m        \u001b[0m\u001b[38;2;248;248;242;48;2;39;40;34m{\u001b[0m\u001b[38;2;230;219;116;48;2;39;40;34m\"\u001b[0m\u001b[38;2;230;219;116;48;2;39;40;34mname\u001b[0m\u001b[38;2;230;219;116;48;2;39;40;34m\"\u001b[0m\u001b[38;2;248;248;242;48;2;39;40;34m:\u001b[0m\u001b[38;2;248;248;242;48;2;39;40;34m \u001b[0m\u001b[38;2;230;219;116;48;2;39;40;34m\"\u001b[0m\u001b[38;2;230;219;116;48;2;39;40;34mGradient Boosting Machines (e. g., XGBoost, LightGBM)\u001b[0m\u001b[38;2;230;219;116;48;2;39;40;34m\"\u001b[0m\u001b[38;2;248;248;242;48;2;39;40;34m,\u001b[0m\u001b[38;2;248;248;242;48;2;39;40;34m \u001b[0m\u001b[38;2;230;219;116;48;2;39;40;34m\"\u001b[0m\u001b[38;2;230;219;116;48;2;39;40;34muse_case\u001b[0m\u001b[38;2;230;219;116;48;2;39;40;34m\"\u001b[0m\u001b[38;2;248;248;242;48;2;39;40;34m:\u001b[0m\u001b[38;2;248;248;242;48;2;39;40;34m \u001b[0m\u001b[38;2;230;219;116;48;2;39;40;34m\"\u001b[0m\u001b[38;2;230;219;116;48;2;39;40;34mClassification and \u001b[0m\u001b[48;2;39;40;34m     \u001b[0m  \n",
              "  \u001b[38;2;230;219;116;48;2;39;40;34mregression\u001b[0m\u001b[38;2;230;219;116;48;2;39;40;34m\"\u001b[0m\u001b[38;2;248;248;242;48;2;39;40;34m}\u001b[0m\u001b[48;2;39;40;34m                                                                                                   \u001b[0m  \n",
              "  \u001b[38;2;248;248;242;48;2;39;40;34m    \u001b[0m\u001b[38;2;248;248;242;48;2;39;40;34m]\u001b[0m\u001b[48;2;39;40;34m                                                                                                          \u001b[0m  \n",
              "  \u001b[38;2;248;248;242;48;2;39;40;34m}\u001b[0m\u001b[38;2;248;248;242;48;2;39;40;34m)\u001b[0m\u001b[48;2;39;40;34m                                                                                                             \u001b[0m  \n",
              " ───────────────────────────────────────────────────────────────────────────────────────────────────────────────── \n"
            ],
            "text/html": [
              "<pre style=\"white-space:pre;overflow-x:auto;line-height:normal;font-family:Menlo,'DejaVu Sans Mono',consolas,'Courier New',monospace\"> ─ <span style=\"font-weight: bold\">Executing parsed code:</span> ──────────────────────────────────────────────────────────────────────────────────────── \n",
              "  <span style=\"color: #f8f8f2; text-decoration-color: #f8f8f2; background-color: #272822\">final_answer({</span><span style=\"background-color: #272822\">                                                                                                 </span>  \n",
              "  <span style=\"color: #f8f8f2; text-decoration-color: #f8f8f2; background-color: #272822\">    </span><span style=\"color: #e6db74; text-decoration-color: #e6db74; background-color: #272822\">\"supervised_learning_explanation\"</span><span style=\"color: #f8f8f2; text-decoration-color: #f8f8f2; background-color: #272822\">: </span><span style=\"color: #e6db74; text-decoration-color: #e6db74; background-color: #272822\">\"Supervised learning is a type of machine learning where a model is </span><span style=\"background-color: #272822\">    </span>  \n",
              "  <span style=\"color: #e6db74; text-decoration-color: #e6db74; background-color: #272822\">trained on labeled data—meaning each input is paired with the correct output. The model learns by comparing its</span>  \n",
              "  <span style=\"color: #e6db74; text-decoration-color: #e6db74; background-color: #272822\">predictions with the actual answers provided in the training data. Over time, it adjusts itself to minimize </span><span style=\"background-color: #272822\">   </span>  \n",
              "  <span style=\"color: #e6db74; text-decoration-color: #e6db74; background-color: #272822\">errors and improve accuracy.\"</span><span style=\"color: #f8f8f2; text-decoration-color: #f8f8f2; background-color: #272822\">,</span><span style=\"background-color: #272822\">                                                                                 </span>  \n",
              "  <span style=\"color: #f8f8f2; text-decoration-color: #f8f8f2; background-color: #272822\">    </span><span style=\"color: #e6db74; text-decoration-color: #e6db74; background-color: #272822\">\"popular_algorithms\"</span><span style=\"color: #f8f8f2; text-decoration-color: #f8f8f2; background-color: #272822\">: [</span><span style=\"background-color: #272822\">                                                                                    </span>  \n",
              "  <span style=\"color: #f8f8f2; text-decoration-color: #f8f8f2; background-color: #272822\">        {</span><span style=\"color: #e6db74; text-decoration-color: #e6db74; background-color: #272822\">\"name\"</span><span style=\"color: #f8f8f2; text-decoration-color: #f8f8f2; background-color: #272822\">: </span><span style=\"color: #e6db74; text-decoration-color: #e6db74; background-color: #272822\">\"Linear Regression\"</span><span style=\"color: #f8f8f2; text-decoration-color: #f8f8f2; background-color: #272822\">, </span><span style=\"color: #e6db74; text-decoration-color: #e6db74; background-color: #272822\">\"use_case\"</span><span style=\"color: #f8f8f2; text-decoration-color: #f8f8f2; background-color: #272822\">: </span><span style=\"color: #e6db74; text-decoration-color: #e6db74; background-color: #272822\">\"Predicting continuous values\"</span><span style=\"color: #f8f8f2; text-decoration-color: #f8f8f2; background-color: #272822\">},</span><span style=\"background-color: #272822\">                             </span>  \n",
              "  <span style=\"color: #f8f8f2; text-decoration-color: #f8f8f2; background-color: #272822\">        {</span><span style=\"color: #e6db74; text-decoration-color: #e6db74; background-color: #272822\">\"name\"</span><span style=\"color: #f8f8f2; text-decoration-color: #f8f8f2; background-color: #272822\">: </span><span style=\"color: #e6db74; text-decoration-color: #e6db74; background-color: #272822\">\"Logistic Regression\"</span><span style=\"color: #f8f8f2; text-decoration-color: #f8f8f2; background-color: #272822\">, </span><span style=\"color: #e6db74; text-decoration-color: #e6db74; background-color: #272822\">\"use_case\"</span><span style=\"color: #f8f8f2; text-decoration-color: #f8f8f2; background-color: #272822\">: </span><span style=\"color: #e6db74; text-decoration-color: #e6db74; background-color: #272822\">\"Binary classification problems\"</span><span style=\"color: #f8f8f2; text-decoration-color: #f8f8f2; background-color: #272822\">},</span><span style=\"background-color: #272822\">                         </span>  \n",
              "  <span style=\"color: #f8f8f2; text-decoration-color: #f8f8f2; background-color: #272822\">        {</span><span style=\"color: #e6db74; text-decoration-color: #e6db74; background-color: #272822\">\"name\"</span><span style=\"color: #f8f8f2; text-decoration-color: #f8f8f2; background-color: #272822\">: </span><span style=\"color: #e6db74; text-decoration-color: #e6db74; background-color: #272822\">\"Decision Trees\"</span><span style=\"color: #f8f8f2; text-decoration-color: #f8f8f2; background-color: #272822\">, </span><span style=\"color: #e6db74; text-decoration-color: #e6db74; background-color: #272822\">\"use_case\"</span><span style=\"color: #f8f8f2; text-decoration-color: #f8f8f2; background-color: #272822\">: </span><span style=\"color: #e6db74; text-decoration-color: #e6db74; background-color: #272822\">\"Classification and regression\"</span><span style=\"color: #f8f8f2; text-decoration-color: #f8f8f2; background-color: #272822\">},</span><span style=\"background-color: #272822\">                               </span>  \n",
              "  <span style=\"color: #f8f8f2; text-decoration-color: #f8f8f2; background-color: #272822\">        {</span><span style=\"color: #e6db74; text-decoration-color: #e6db74; background-color: #272822\">\"name\"</span><span style=\"color: #f8f8f2; text-decoration-color: #f8f8f2; background-color: #272822\">: </span><span style=\"color: #e6db74; text-decoration-color: #e6db74; background-color: #272822\">\"Random Forest\"</span><span style=\"color: #f8f8f2; text-decoration-color: #f8f8f2; background-color: #272822\">, </span><span style=\"color: #e6db74; text-decoration-color: #e6db74; background-color: #272822\">\"use_case\"</span><span style=\"color: #f8f8f2; text-decoration-color: #f8f8f2; background-color: #272822\">: </span><span style=\"color: #e6db74; text-decoration-color: #e6db74; background-color: #272822\">\"Classification and regression\"</span><span style=\"color: #f8f8f2; text-decoration-color: #f8f8f2; background-color: #272822\">},</span><span style=\"background-color: #272822\">                                </span>  \n",
              "  <span style=\"color: #f8f8f2; text-decoration-color: #f8f8f2; background-color: #272822\">        {</span><span style=\"color: #e6db74; text-decoration-color: #e6db74; background-color: #272822\">\"name\"</span><span style=\"color: #f8f8f2; text-decoration-color: #f8f8f2; background-color: #272822\">: </span><span style=\"color: #e6db74; text-decoration-color: #e6db74; background-color: #272822\">\"Support Vector Machines (SVM)\"</span><span style=\"color: #f8f8f2; text-decoration-color: #f8f8f2; background-color: #272822\">, </span><span style=\"color: #e6db74; text-decoration-color: #e6db74; background-color: #272822\">\"use_case\"</span><span style=\"color: #f8f8f2; text-decoration-color: #f8f8f2; background-color: #272822\">: </span><span style=\"color: #e6db74; text-decoration-color: #e6db74; background-color: #272822\">\"Classification and regression\"</span><span style=\"color: #f8f8f2; text-decoration-color: #f8f8f2; background-color: #272822\">},</span><span style=\"background-color: #272822\">                </span>  \n",
              "  <span style=\"color: #f8f8f2; text-decoration-color: #f8f8f2; background-color: #272822\">        {</span><span style=\"color: #e6db74; text-decoration-color: #e6db74; background-color: #272822\">\"name\"</span><span style=\"color: #f8f8f2; text-decoration-color: #f8f8f2; background-color: #272822\">: </span><span style=\"color: #e6db74; text-decoration-color: #e6db74; background-color: #272822\">\"k-Nearest Neighbors (k-NN)\"</span><span style=\"color: #f8f8f2; text-decoration-color: #f8f8f2; background-color: #272822\">, </span><span style=\"color: #e6db74; text-decoration-color: #e6db74; background-color: #272822\">\"use_case\"</span><span style=\"color: #f8f8f2; text-decoration-color: #f8f8f2; background-color: #272822\">: </span><span style=\"color: #e6db74; text-decoration-color: #e6db74; background-color: #272822\">\"Classification and regression\"</span><span style=\"color: #f8f8f2; text-decoration-color: #f8f8f2; background-color: #272822\">},</span><span style=\"background-color: #272822\">                   </span>  \n",
              "  <span style=\"color: #f8f8f2; text-decoration-color: #f8f8f2; background-color: #272822\">        {</span><span style=\"color: #e6db74; text-decoration-color: #e6db74; background-color: #272822\">\"name\"</span><span style=\"color: #f8f8f2; text-decoration-color: #f8f8f2; background-color: #272822\">: </span><span style=\"color: #e6db74; text-decoration-color: #e6db74; background-color: #272822\">\"Naive Bayes\"</span><span style=\"color: #f8f8f2; text-decoration-color: #f8f8f2; background-color: #272822\">, </span><span style=\"color: #e6db74; text-decoration-color: #e6db74; background-color: #272822\">\"use_case\"</span><span style=\"color: #f8f8f2; text-decoration-color: #f8f8f2; background-color: #272822\">: </span><span style=\"color: #e6db74; text-decoration-color: #e6db74; background-color: #272822\">\"Classification\"</span><span style=\"color: #f8f8f2; text-decoration-color: #f8f8f2; background-color: #272822\">},</span><span style=\"background-color: #272822\">                                                 </span>  \n",
              "  <span style=\"color: #f8f8f2; text-decoration-color: #f8f8f2; background-color: #272822\">        {</span><span style=\"color: #e6db74; text-decoration-color: #e6db74; background-color: #272822\">\"name\"</span><span style=\"color: #f8f8f2; text-decoration-color: #f8f8f2; background-color: #272822\">: </span><span style=\"color: #e6db74; text-decoration-color: #e6db74; background-color: #272822\">\"Neural Networks\"</span><span style=\"color: #f8f8f2; text-decoration-color: #f8f8f2; background-color: #272822\">, </span><span style=\"color: #e6db74; text-decoration-color: #e6db74; background-color: #272822\">\"use_case\"</span><span style=\"color: #f8f8f2; text-decoration-color: #f8f8f2; background-color: #272822\">: </span><span style=\"color: #e6db74; text-decoration-color: #e6db74; background-color: #272822\">\"Classification and regression\"</span><span style=\"color: #f8f8f2; text-decoration-color: #f8f8f2; background-color: #272822\">},</span><span style=\"background-color: #272822\">                              </span>  \n",
              "  <span style=\"color: #f8f8f2; text-decoration-color: #f8f8f2; background-color: #272822\">        {</span><span style=\"color: #e6db74; text-decoration-color: #e6db74; background-color: #272822\">\"name\"</span><span style=\"color: #f8f8f2; text-decoration-color: #f8f8f2; background-color: #272822\">: </span><span style=\"color: #e6db74; text-decoration-color: #e6db74; background-color: #272822\">\"Gradient Boosting Machines (e. g., XGBoost, LightGBM)\"</span><span style=\"color: #f8f8f2; text-decoration-color: #f8f8f2; background-color: #272822\">, </span><span style=\"color: #e6db74; text-decoration-color: #e6db74; background-color: #272822\">\"use_case\"</span><span style=\"color: #f8f8f2; text-decoration-color: #f8f8f2; background-color: #272822\">: </span><span style=\"color: #e6db74; text-decoration-color: #e6db74; background-color: #272822\">\"Classification and </span><span style=\"background-color: #272822\">     </span>  \n",
              "  <span style=\"color: #e6db74; text-decoration-color: #e6db74; background-color: #272822\">regression\"</span><span style=\"color: #f8f8f2; text-decoration-color: #f8f8f2; background-color: #272822\">}</span><span style=\"background-color: #272822\">                                                                                                   </span>  \n",
              "  <span style=\"color: #f8f8f2; text-decoration-color: #f8f8f2; background-color: #272822\">    ]</span><span style=\"background-color: #272822\">                                                                                                          </span>  \n",
              "  <span style=\"color: #f8f8f2; text-decoration-color: #f8f8f2; background-color: #272822\">})</span><span style=\"background-color: #272822\">                                                                                                             </span>  \n",
              " ───────────────────────────────────────────────────────────────────────────────────────────────────────────────── \n",
              "</pre>\n"
            ]
          },
          "metadata": {}
        },
        {
          "output_type": "display_data",
          "data": {
            "text/plain": [
              "\u001b[1;38;2;212;183;2mOut - Final answer: {'supervised_learning_explanation': 'Supervised learning is a type of machine learning where a \u001b[0m\n",
              "\u001b[1;38;2;212;183;2mmodel is trained on labeled data—meaning each input is paired with the correct output. The model learns by \u001b[0m\n",
              "\u001b[1;38;2;212;183;2mcomparing its predictions with the actual answers provided in the training data. Over time, it adjusts itself to \u001b[0m\n",
              "\u001b[1;38;2;212;183;2mminimize errors and improve accuracy.', 'popular_algorithms': [{'name': 'Linear Regression', 'use_case': \u001b[0m\n",
              "\u001b[1;38;2;212;183;2m'Predicting continuous values'}, {'name': 'Logistic Regression', 'use_case': 'Binary classification problems'}, \u001b[0m\n",
              "\u001b[1;38;2;212;183;2m{'name': 'Decision Trees', 'use_case': 'Classification and regression'}, {'name': 'Random Forest', 'use_case': \u001b[0m\n",
              "\u001b[1;38;2;212;183;2m'Classification and regression'}, {'name': 'Support Vector Machines (SVM)', 'use_case': 'Classification and \u001b[0m\n",
              "\u001b[1;38;2;212;183;2mregression'}, {'name': 'k-Nearest Neighbors (k-NN)', 'use_case': 'Classification and regression'}, {'name': 'Naive \u001b[0m\n",
              "\u001b[1;38;2;212;183;2mBayes', 'use_case': 'Classification'}, {'name': 'Neural Networks', 'use_case': 'Classification and regression'}, \u001b[0m\n",
              "\u001b[1;38;2;212;183;2m{'name': 'Gradient Boosting Machines (e. g., XGBoost, LightGBM)', 'use_case': 'Classification and regression'}]}\u001b[0m\n"
            ],
            "text/html": [
              "<pre style=\"white-space:pre;overflow-x:auto;line-height:normal;font-family:Menlo,'DejaVu Sans Mono',consolas,'Courier New',monospace\"><span style=\"color: #d4b702; text-decoration-color: #d4b702; font-weight: bold\">Out - Final answer: {'supervised_learning_explanation': 'Supervised learning is a type of machine learning where a </span>\n",
              "<span style=\"color: #d4b702; text-decoration-color: #d4b702; font-weight: bold\">model is trained on labeled data—meaning each input is paired with the correct output. The model learns by </span>\n",
              "<span style=\"color: #d4b702; text-decoration-color: #d4b702; font-weight: bold\">comparing its predictions with the actual answers provided in the training data. Over time, it adjusts itself to </span>\n",
              "<span style=\"color: #d4b702; text-decoration-color: #d4b702; font-weight: bold\">minimize errors and improve accuracy.', 'popular_algorithms': [{'name': 'Linear Regression', 'use_case': </span>\n",
              "<span style=\"color: #d4b702; text-decoration-color: #d4b702; font-weight: bold\">'Predicting continuous values'}, {'name': 'Logistic Regression', 'use_case': 'Binary classification problems'}, </span>\n",
              "<span style=\"color: #d4b702; text-decoration-color: #d4b702; font-weight: bold\">{'name': 'Decision Trees', 'use_case': 'Classification and regression'}, {'name': 'Random Forest', 'use_case': </span>\n",
              "<span style=\"color: #d4b702; text-decoration-color: #d4b702; font-weight: bold\">'Classification and regression'}, {'name': 'Support Vector Machines (SVM)', 'use_case': 'Classification and </span>\n",
              "<span style=\"color: #d4b702; text-decoration-color: #d4b702; font-weight: bold\">regression'}, {'name': 'k-Nearest Neighbors (k-NN)', 'use_case': 'Classification and regression'}, {'name': 'Naive </span>\n",
              "<span style=\"color: #d4b702; text-decoration-color: #d4b702; font-weight: bold\">Bayes', 'use_case': 'Classification'}, {'name': 'Neural Networks', 'use_case': 'Classification and regression'}, </span>\n",
              "<span style=\"color: #d4b702; text-decoration-color: #d4b702; font-weight: bold\">{'name': 'Gradient Boosting Machines (e. g., XGBoost, LightGBM)', 'use_case': 'Classification and regression'}]}</span>\n",
              "</pre>\n"
            ]
          },
          "metadata": {}
        },
        {
          "output_type": "display_data",
          "data": {
            "text/plain": [
              "\u001b[2m[Step 2: Duration 22.77 seconds| Input tokens: 9,502 | Output tokens: 1,024]\u001b[0m\n"
            ],
            "text/html": [
              "<pre style=\"white-space:pre;overflow-x:auto;line-height:normal;font-family:Menlo,'DejaVu Sans Mono',consolas,'Courier New',monospace\"><span style=\"color: #7f7f7f; text-decoration-color: #7f7f7f\">[Step 2: Duration 22.77 seconds| Input tokens: 9,502 | Output tokens: 1,024]</span>\n",
              "</pre>\n"
            ]
          },
          "metadata": {}
        },
        {
          "output_type": "stream",
          "name": "stdout",
          "text": [
            "{'supervised_learning_explanation': 'Supervised learning is a type of machine learning where a model is trained on labeled data—meaning each input is paired with the correct output. The model learns by comparing its predictions with the actual answers provided in the training data. Over time, it adjusts itself to minimize errors and improve accuracy.', 'popular_algorithms': [{'name': 'Linear Regression', 'use_case': 'Predicting continuous values'}, {'name': 'Logistic Regression', 'use_case': 'Binary classification problems'}, {'name': 'Decision Trees', 'use_case': 'Classification and regression'}, {'name': 'Random Forest', 'use_case': 'Classification and regression'}, {'name': 'Support Vector Machines (SVM)', 'use_case': 'Classification and regression'}, {'name': 'k-Nearest Neighbors (k-NN)', 'use_case': 'Classification and regression'}, {'name': 'Naive Bayes', 'use_case': 'Classification'}, {'name': 'Neural Networks', 'use_case': 'Classification and regression'}, {'name': 'Gradient Boosting Machines (e. g., XGBoost, LightGBM)', 'use_case': 'Classification and regression'}]}\n"
          ]
        }
      ]
    }
  ]
}