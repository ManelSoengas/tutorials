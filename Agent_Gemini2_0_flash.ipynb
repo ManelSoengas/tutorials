{
  "nbformat": 4,
  "nbformat_minor": 0,
  "metadata": {
    "colab": {
      "provenance": [],
      "include_colab_link": true
    },
    "kernelspec": {
      "name": "python3",
      "display_name": "Python 3"
    }
  },
  "cells": [
    {
      "cell_type": "markdown",
      "metadata": {
        "id": "view-in-github",
        "colab_type": "text"
      },
      "source": [
        "<a href=\"https://colab.research.google.com/github/ManelSoengas/tutorials/blob/main/Agent_Gemini2_0_flash.ipynb\" target=\"_parent\"><img src=\"https://colab.research.google.com/assets/colab-badge.svg\" alt=\"Open In Colab\"/></a>"
      ]
    },
    {
      "cell_type": "code",
      "source": [
        "!pip install duckduckgo-search\n",
        "\n",
        "import google.generativeai as genai\n",
        "from duckduckgo_search import DDGS\n",
        "\n",
        "# Configura la teva API de Gemini\n",
        "API_KEY_GEMINI = \"API_KEY\"\n",
        "genai.configure(api_key=API_KEY_GEMINI)\n",
        "\n",
        "def cerca_duckduckgo(consulta, num_resultats=3):\n",
        "    \"\"\"Fa una cerca a DuckDuckGo i retorna els primers resultats.\"\"\"\n",
        "    with DDGS() as ddgs:\n",
        "        resultats = list(ddgs.text(consulta, max_results=num_resultats))\n",
        "\n",
        "    links = [r[\"href\"] for r in resultats]  # Extreu els enllaços\n",
        "    return links if links else [\"No s'han trobat resultats.\"]\n",
        "\n",
        "def agent_informacio(consulta):\n",
        "    \"\"\"Busca informació sobre un tema i la sintetitza amb Gemini.\"\"\"\n",
        "    resultats = cerca_duckduckgo(consulta)\n",
        "    context = f\"Consulta: {consulta}\\nResultats trobats:\\n\" + \"\\n\".join(resultats)\n",
        "\n",
        "    model = genai.GenerativeModel(\"gemini-2.0-flash\")\n",
        "    response = model.generate_content(f\"Resum de la informació trobada:\\n{context}\")\n",
        "\n",
        "    return response.text\n",
        "\n",
        "# Exemple d'ús\n",
        "consulta_usuari = \"Què és la Intel·ligència artificial. Dona'm les fonts\"\n",
        "resposta = agent_informacio(consulta_usuari)\n",
        "\n",
        "print(resposta)\n"
      ],
      "metadata": {
        "id": "jxxzoQhVURgJ",
        "outputId": "5c467986-85ef-4a53-ca30-6c905c447324",
        "colab": {
          "base_uri": "https://localhost:8080/",
          "height": 506
        }
      },
      "execution_count": null,
      "outputs": [
        {
          "output_type": "stream",
          "name": "stdout",
          "text": [
            "Requirement already satisfied: duckduckgo-search in /usr/local/lib/python3.11/dist-packages (7.4.4)\n",
            "Requirement already satisfied: click>=8.1.8 in /usr/local/lib/python3.11/dist-packages (from duckduckgo-search) (8.1.8)\n",
            "Requirement already satisfied: httpx>=0.28.1 in /usr/local/lib/python3.11/dist-packages (from httpx[brotli,http2,socks]>=0.28.1->duckduckgo-search) (0.28.1)\n",
            "Requirement already satisfied: lxml>=5.3.0 in /usr/local/lib/python3.11/dist-packages (from duckduckgo-search) (5.3.1)\n",
            "Requirement already satisfied: anyio in /usr/local/lib/python3.11/dist-packages (from httpx>=0.28.1->httpx[brotli,http2,socks]>=0.28.1->duckduckgo-search) (3.7.1)\n",
            "Requirement already satisfied: certifi in /usr/local/lib/python3.11/dist-packages (from httpx>=0.28.1->httpx[brotli,http2,socks]>=0.28.1->duckduckgo-search) (2025.1.31)\n",
            "Requirement already satisfied: httpcore==1.* in /usr/local/lib/python3.11/dist-packages (from httpx>=0.28.1->httpx[brotli,http2,socks]>=0.28.1->duckduckgo-search) (1.0.7)\n",
            "Requirement already satisfied: idna in /usr/local/lib/python3.11/dist-packages (from httpx>=0.28.1->httpx[brotli,http2,socks]>=0.28.1->duckduckgo-search) (3.10)\n",
            "Requirement already satisfied: h11<0.15,>=0.13 in /usr/local/lib/python3.11/dist-packages (from httpcore==1.*->httpx>=0.28.1->httpx[brotli,http2,socks]>=0.28.1->duckduckgo-search) (0.14.0)\n",
            "Requirement already satisfied: brotli in /usr/local/lib/python3.11/dist-packages (from httpx[brotli,http2,socks]>=0.28.1->duckduckgo-search) (1.1.0)\n",
            "Requirement already satisfied: h2<5,>=3 in /usr/local/lib/python3.11/dist-packages (from httpx[brotli,http2,socks]>=0.28.1->duckduckgo-search) (4.2.0)\n",
            "Requirement already satisfied: socksio==1.* in /usr/local/lib/python3.11/dist-packages (from httpx[brotli,http2,socks]>=0.28.1->duckduckgo-search) (1.0.0)\n",
            "Requirement already satisfied: hyperframe<7,>=6.1 in /usr/local/lib/python3.11/dist-packages (from h2<5,>=3->httpx[brotli,http2,socks]>=0.28.1->duckduckgo-search) (6.1.0)\n",
            "Requirement already satisfied: hpack<5,>=4.1 in /usr/local/lib/python3.11/dist-packages (from h2<5,>=3->httpx[brotli,http2,socks]>=0.28.1->duckduckgo-search) (4.1.0)\n",
            "Requirement already satisfied: sniffio>=1.1 in /usr/local/lib/python3.11/dist-packages (from anyio->httpx>=0.28.1->httpx[brotli,http2,socks]>=0.28.1->duckduckgo-search) (1.3.1)\n",
            "**Resum sobre la Intel·ligència Artificial (IA) basat en les fonts proporcionades:**\n",
            "\n",
            "La intel·ligència artificial (IA) és un camp de la informàtica dedicat a crear sistemes i programes capaços d'imitar o reproduir comportaments intel·ligents propis dels humans.  Aquesta intel·ligència artificial permet que les màquines aprenguin, raonin, resolguin problemes i prenguin decisions.\n",
            "\n",
            "**Fonts:**\n",
            "\n",
            "*   **Wikipedia (es.wikipedia.org/wiki/Inteligencia_artificial):** Proporciona una definició general de la IA, així com un resum de la seva història, diferents enfocaments, aplicacions i reptes. Sol ser un bon punt de partida per a una visió general.\n",
            "\n",
            "*   **URV Library Guide (urv.libguides.com/c.php?g=719394&p=5217425):** Aquest recurs, probablement, facilita l'accés a recursos acadèmics i articles que aprofundeixen en el concepte d'IA. Tot i que no conec el contingut específic, és probable que ajudi a trobar definicions més precises i tècniques.\n",
            "\n",
            "*   **UOC (openaccess.uoc.edu/bitstream/10609/148038/3/QueEsLaIntelligenciaArtificial.pdf):** Aquest document de la UOC (Universitat Oberta de Catalunya) possiblement ofereix una definició més estructurada i acadèmica de la IA, així com la seva evolució, diferents tipus i implicacions. En format PDF, possiblement és un article o capítol d'un llibre sobre IA. El títol \"Què és la Intel·ligència Artificial\" suggereix que serà un bon recurs per entendre les bases del concepte.\n",
            "\n"
          ]
        }
      ]
    }
  ]
}