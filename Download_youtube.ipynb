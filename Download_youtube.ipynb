{
  "nbformat": 4,
  "nbformat_minor": 0,
  "metadata": {
    "colab": {
      "provenance": [],
      "authorship_tag": "ABX9TyN2hHO+9ZlArBezT391G92K",
      "include_colab_link": true
    },
    "kernelspec": {
      "name": "python3",
      "display_name": "Python 3"
    },
    "language_info": {
      "name": "python"
    }
  },
  "cells": [
    {
      "cell_type": "markdown",
      "metadata": {
        "id": "view-in-github",
        "colab_type": "text"
      },
      "source": [
        "<a href=\"https://colab.research.google.com/github/ManelSoengas/tutorials/blob/main/Download_youtube.ipynb\" target=\"_parent\"><img src=\"https://colab.research.google.com/assets/colab-badge.svg\" alt=\"Open In Colab\"/></a>"
      ]
    },
    {
      "cell_type": "code",
      "source": [
        "!pip install yt-dlp\n",
        "\n",
        "import yt_dlp\n",
        "\n",
        "url = \"https://www.youtube.com/watch?v=e6AkI2Fk-iM\"\n",
        "ydl_opts = {\n",
        "    'format': 'best',\n",
        "}\n",
        "with yt_dlp.YoutubeDL(ydl_opts) as ydl:\n",
        "    ydl.download([url])\n"
      ],
      "metadata": {
        "colab": {
          "base_uri": "https://localhost:8080/"
        },
        "id": "hsM5Sql7HcGg",
        "outputId": "1435e57a-d9a8-4a55-fd29-beb912070d6f"
      },
      "execution_count": 11,
      "outputs": [
        {
          "output_type": "stream",
          "name": "stdout",
          "text": [
            "Collecting yt-dlp\n",
            "  Downloading yt_dlp-2025.1.15-py3-none-any.whl.metadata (172 kB)\n",
            "\u001b[?25l     \u001b[90m━━━━━━━━━━━━━━━━━━━━━━━━━━━━━━━━━━━━━━━━\u001b[0m \u001b[32m0.0/172.2 kB\u001b[0m \u001b[31m?\u001b[0m eta \u001b[36m-:--:--\u001b[0m\r\u001b[2K     \u001b[91m━━━━━━━━━━━━━━━━━━━━━━━━━━━━━━━━━━━━━━\u001b[0m\u001b[90m╺\u001b[0m\u001b[90m━\u001b[0m \u001b[32m163.8/172.2 kB\u001b[0m \u001b[31m4.7 MB/s\u001b[0m eta \u001b[36m0:00:01\u001b[0m\r\u001b[2K     \u001b[90m━━━━━━━━━━━━━━━━━━━━━━━━━━━━━━━━━━━━━━━━\u001b[0m \u001b[32m172.2/172.2 kB\u001b[0m \u001b[31m3.4 MB/s\u001b[0m eta \u001b[36m0:00:00\u001b[0m\n",
            "\u001b[?25hDownloading yt_dlp-2025.1.15-py3-none-any.whl (3.2 MB)\n",
            "\u001b[2K   \u001b[90m━━━━━━━━━━━━━━━━━━━━━━━━━━━━━━━━━━━━━━━━\u001b[0m \u001b[32m3.2/3.2 MB\u001b[0m \u001b[31m44.0 MB/s\u001b[0m eta \u001b[36m0:00:00\u001b[0m\n",
            "\u001b[?25hInstalling collected packages: yt-dlp\n",
            "Successfully installed yt-dlp-2025.1.15\n",
            "[youtube] Extracting URL: https://www.youtube.com/watch?v=e6AkI2Fk-iM\n",
            "[youtube] e6AkI2Fk-iM: Downloading webpage\n",
            "[youtube] e6AkI2Fk-iM: Downloading tv player API JSON\n",
            "[youtube] e6AkI2Fk-iM: Downloading ios player API JSON\n",
            "[youtube] e6AkI2Fk-iM: Downloading player 6e1dd460\n",
            "[youtube] e6AkI2Fk-iM: Downloading m3u8 information\n",
            "[info] e6AkI2Fk-iM: Downloading 1 format(s): 18\n",
            "[download] Destination: ¡NUEVO CHATGPT TASKS! ✨ OpenAI avanza hacia una IA más AUTÓNOMA [e6AkI2Fk-iM].mp4\n",
            "[download] 100% of   31.51MiB in 00:00:01 at 18.53MiB/s  \n"
          ]
        }
      ]
    }
  ]
}