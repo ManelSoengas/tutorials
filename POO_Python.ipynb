{
  "nbformat": 4,
  "nbformat_minor": 0,
  "metadata": {
    "colab": {
      "provenance": [],
      "authorship_tag": "ABX9TyO2lsxMc1O4olhQaGQ9ZEna",
      "include_colab_link": true
    },
    "kernelspec": {
      "name": "python3",
      "display_name": "Python 3"
    },
    "language_info": {
      "name": "python"
    }
  },
  "cells": [
    {
      "cell_type": "markdown",
      "metadata": {
        "id": "view-in-github",
        "colab_type": "text"
      },
      "source": [
        "<a href=\"https://colab.research.google.com/github/ManelSoengas/tutorials/blob/main/POO_Python.ipynb\" target=\"_parent\"><img src=\"https://colab.research.google.com/assets/colab-badge.svg\" alt=\"Open In Colab\"/></a>"
      ]
    },
    {
      "cell_type": "code",
      "execution_count": 1,
      "metadata": {
        "colab": {
          "base_uri": "https://localhost:8080/"
        },
        "id": "mbcjTIPy3OHW",
        "outputId": "2add6354-5dab-495b-c7be-f241e36e9850"
      },
      "outputs": [
        {
          "output_type": "stream",
          "name": "stdout",
          "text": [
            "Toyota Corolla accelerat a 50 km/h\n",
            "Toyota Corolla frenat a 30 km/h\n",
            "Toyota Corolla (2020) - Velocitat actual: 30 km/h\n",
            "Ford Mustang accelerat a 70 km/h\n",
            "Ford Mustang (2018) - Velocitat actual: 70 km/h\n",
            "Velocitat inicial: 30\n",
            "Velocitat ajustada: 100\n",
            "La velocitat no pot ser negativa.\n"
          ]
        }
      ],
      "source": [
        "# Declaració de la classe Coche\n",
        "class Coche:\n",
        "    # Constructor per inicialitzar les propietats de l'objecte\n",
        "    def __init__(self, marca, model, any):\n",
        "        self.marca = marca  # Propietat marca\n",
        "        self.model = model  # Propietat model\n",
        "        self.any = any      # Propietat any\n",
        "        self._velocitat = 0  # Propietat privada amb valor inicial 0 (indica velocitat)\n",
        "\n",
        "    # Mètode per accelerar\n",
        "    def accelerar(self, increment):\n",
        "        self._velocitat += increment\n",
        "        print(f\"{self.marca} {self.model} accelerat a {self._velocitat} km/h\")\n",
        "\n",
        "    # Mètode per frenar\n",
        "    def frenar(self, decrement):\n",
        "        self._velocitat = max(0, self._velocitat - decrement)  # Evita velocitat negativa\n",
        "        print(f\"{self.marca} {self.model} frenat a {self._velocitat} km/h\")\n",
        "\n",
        "    # Mètode per mostrar informació del cotxe\n",
        "    def info(self):\n",
        "        return f\"{self.marca} {self.model} ({self.any}) - Velocitat actual: {self._velocitat} km/h\"\n",
        "\n",
        "    # Propietat per obtenir la velocitat actual\n",
        "    @property\n",
        "    def velocitat(self):\n",
        "        return self._velocitat\n",
        "\n",
        "    # Propietat per ajustar la velocitat amb validació\n",
        "    @velocitat.setter\n",
        "    def velocitat(self, valor):\n",
        "        if valor >= 0:\n",
        "            self._velocitat = valor\n",
        "        else:\n",
        "            print(\"La velocitat no pot ser negativa.\")\n",
        "\n",
        "# Creació d'instàncies de la classe Coche\n",
        "coche1 = Coche(\"Toyota\", \"Corolla\", 2020)\n",
        "coche2 = Coche(\"Ford\", \"Mustang\", 2018)\n",
        "\n",
        "# Ús dels mètodes i propietats\n",
        "coche1.accelerar(50)  # Accelerar el cotxe a 50 km/h\n",
        "coche1.frenar(20)     # Frenar el cotxe a 30 km/h\n",
        "print(coche1.info())  # Mostra la informació del cotxe\n",
        "\n",
        "coche2.accelerar(70)\n",
        "print(coche2.info())\n",
        "\n",
        "# Accedir i modificar la propietat 'velocitat' de manera controlada\n",
        "print(\"Velocitat inicial:\", coche1.velocitat)  # Obtenim la velocitat actual de coche1\n",
        "coche1.velocitat = 100                         # Establim una nova velocitat per coche1\n",
        "print(\"Velocitat ajustada:\", coche1.velocitat)  # Comprovem la velocitat actualitzada\n",
        "\n",
        "# Intent de fixar una velocitat negativa (es mostrarà un missatge d'error)\n",
        "coche1.velocitat = -10\n"
      ]
    }
  ]
}